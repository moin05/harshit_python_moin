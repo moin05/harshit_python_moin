{
 "cells": [
  {
   "cell_type": "code",
   "execution_count": 1,
   "metadata": {},
   "outputs": [],
   "source": [
    "#1. Generator Function\n",
    "#2. Generator Comprehension --> Aage dekhenge\n",
    "# Create ur first generator with generator function"
   ]
  },
  {
   "cell_type": "code",
   "execution_count": 6,
   "metadata": {},
   "outputs": [
    {
     "name": "stdout",
     "output_type": "stream",
     "text": [
      "1\n",
      "2\n",
      "3\n",
      "4\n"
     ]
    }
   ],
   "source": [
    "# Create a function that takes a number and print integers from 1 \n",
    "# to that number\n",
    "def nums(n):\n",
    "    for i in range(1,n+1):\n",
    "        print(i)\n",
    "nums(4)        \n",
    "# Ab iss function ko generator kaise banaoge ?\n",
    "# printki jagah yield likh do bas"
   ]
  },
  {
   "cell_type": "code",
   "execution_count": 8,
   "metadata": {},
   "outputs": [
    {
     "data": {
      "text/plain": [
       "<generator object nums at 0x00000000040FFE10>"
      ]
     },
     "execution_count": 8,
     "metadata": {},
     "output_type": "execute_result"
    }
   ],
   "source": [
    "def nums(n):\n",
    "    for i in range(1,n+1):\n",
    "        yield(i)\n",
    "nums(4)        \n",
    "# Normal function me print/return krte hai ,aur generator me yield :)"
   ]
  },
  {
   "cell_type": "code",
   "execution_count": 11,
   "metadata": {},
   "outputs": [
    {
     "data": {
      "text/plain": [
       "<generator object nums at 0x00000000040FFCA8>"
      ]
     },
     "execution_count": 11,
     "metadata": {},
     "output_type": "execute_result"
    }
   ],
   "source": [
    "# Yield is a keyword ,so u may not have to write it in parenthesis \n",
    "# because its not a function\n",
    "# yield i likhoge tab bhi it will work \n",
    "\n",
    "def nums(n):\n",
    "    for i in range(1,n+1):\n",
    "        yield i   # see :)\n",
    "nums(4)        "
   ]
  },
  {
   "cell_type": "code",
   "execution_count": 1,
   "metadata": {},
   "outputs": [
    {
     "name": "stdout",
     "output_type": "stream",
     "text": [
      "1\n",
      "2\n",
      "3\n",
      "4\n"
     ]
    }
   ],
   "source": [
    "def nums(n):\n",
    "    for i in range(1,n+1):\n",
    "        yield i\n",
    "\n",
    "for number in nums(4):\n",
    "    print(number)"
   ]
  },
  {
   "cell_type": "code",
   "execution_count": 2,
   "metadata": {},
   "outputs": [],
   "source": [
    "# Sabse pehle generator 1 generate karega , ab jab tak hum agle number ki \n",
    "# demand nai karenge tab tak ,generator agla number nai generate karega\n",
    "# 1 print hone ke baad memory se hat jayega \n",
    "# phir next function call hoga \n",
    "# phir 2 ayega ......\n",
    "# mtlb memory me ek baar me ek hi cheez generate hogi \n",
    "# agla element demand kaun krra hai ? For loop :) "
   ]
  },
  {
   "cell_type": "code",
   "execution_count": 6,
   "metadata": {},
   "outputs": [
    {
     "name": "stdout",
     "output_type": "stream",
     "text": [
      "1\n",
      "2\n",
      "3\n",
      "4\n"
     ]
    }
   ],
   "source": [
    "numbers=nums(4)  #numbers is a generator\n",
    "for i in numbers:\n",
    "    print(i)\n",
    "for i in numbers:\n",
    "    print(i)    \n",
    "# Do baar loop chalaye lekin ek hi baar print hua \n",
    "# Jab ek hi baar sequence load krna ho , tab generator"
   ]
  },
  {
   "cell_type": "code",
   "execution_count": 8,
   "metadata": {},
   "outputs": [
    {
     "name": "stdout",
     "output_type": "stream",
     "text": [
      "1\n",
      "2\n",
      "3\n",
      "4\n",
      "1\n",
      "2\n",
      "3\n",
      "4\n"
     ]
    }
   ],
   "source": [
    "# generator can be converted to list\n",
    "numbers=list(nums(4))  #numbers is a generator\n",
    "for i in numbers:\n",
    "    print(i)\n",
    "for i in numbers:\n",
    "    print(i)    "
   ]
  },
  {
   "cell_type": "code",
   "execution_count": null,
   "metadata": {},
   "outputs": [],
   "source": [
    "# Memory\n",
    "# list = (.......................)\n",
    "# Generator = (.)"
   ]
  }
 ],
 "metadata": {
  "kernelspec": {
   "display_name": "Python 2",
   "language": "python",
   "name": "python2"
  },
  "language_info": {
   "codemirror_mode": {
    "name": "ipython",
    "version": 2
   },
   "file_extension": ".py",
   "mimetype": "text/x-python",
   "name": "python",
   "nbconvert_exporter": "python",
   "pygments_lexer": "ipython2",
   "version": "2.7.16"
  },
  "widgets": {
   "state": {},
   "version": "1.1.2"
  }
 },
 "nbformat": 4,
 "nbformat_minor": 2
}
