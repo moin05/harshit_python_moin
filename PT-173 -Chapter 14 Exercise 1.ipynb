{
 "cells": [
  {
   "cell_type": "code",
   "execution_count": 4,
   "metadata": {},
   "outputs": [
    {
     "name": "stdout",
     "output_type": "stream",
     "text": [
      "yessss\n",
      "this is line two\n",
      "this is line two\n",
      "this is line two\n",
      "this is line two\n",
      "this is line two\n",
      "this is line two\n",
      "this is line two\n",
      "this is line two\n",
      "this is line two\n",
      "this is line two\n",
      "0.0020058155059814453\n"
     ]
    }
   ],
   "source": [
    "import time\n",
    "\n",
    "t1 = time.time()  #abhi jo time ho raha hai , that is stored in t1\n",
    "x=5\n",
    "if x==5:\n",
    "    print('yessss')\n",
    "print('this is line two')\n",
    "print('this is line two')\n",
    "print('this is line two')\n",
    "print('this is line two')\n",
    "print('this is line two')\n",
    "print('this is line two')\n",
    "print('this is line two')\n",
    "print('this is line two')\n",
    "print('this is line two')\n",
    "print('this is line two')\n",
    "t2 = time.time()    #abhi jo time ho raha hai , that is stored in t2\n",
    "print(t2-t1)        # code ko run hone me jo tme laga = t2-t1 :)"
   ]
  },
  {
   "cell_type": "code",
   "execution_count": 5,
   "metadata": {},
   "outputs": [],
   "source": [
    "#Task\n",
    "#make a decorator function to calculate the take it takes to run the code !"
   ]
  },
  {
   "cell_type": "code",
   "execution_count": null,
   "metadata": {},
   "outputs": [],
   "source": []
  }
 ],
 "metadata": {
  "kernelspec": {
   "display_name": "Python 3",
   "language": "python",
   "name": "python3"
  },
  "language_info": {
   "codemirror_mode": {
    "name": "ipython",
    "version": 3
   },
   "file_extension": ".py",
   "mimetype": "text/x-python",
   "name": "python",
   "nbconvert_exporter": "python",
   "pygments_lexer": "ipython3",
   "version": "3.6.5"
  }
 },
 "nbformat": 4,
 "nbformat_minor": 2
}
