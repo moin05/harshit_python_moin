{
 "cells": [
  {
   "cell_type": "code",
   "execution_count": 2,
   "metadata": {},
   "outputs": [
    {
     "name": "stdout",
     "output_type": "stream",
     "text": [
      "24\n"
     ]
    }
   ],
   "source": [
    "# *args with normal parameter \n",
    "\n",
    "def multiply_nums(*args):\n",
    "    multiply=1\n",
    "    for i in args:\n",
    "        multiply=multiply*i\n",
    "    return multiply\n",
    "\n",
    "print(multiply_nums(1,2,3,4))"
   ]
  },
  {
   "cell_type": "code",
   "execution_count": 7,
   "metadata": {},
   "outputs": [
    {
     "name": "stdout",
     "output_type": "stream",
     "text": [
      "num is 200 \n",
      "\n",
      "args is (2, 3, 4) \n",
      "\n",
      "24\n"
     ]
    }
   ],
   "source": [
    "# *args with normal parameter \n",
    "#yaha num is normal parameter \n",
    "def multiply_nums(num , *args):\n",
    "    print(f'num is {num} \\n')\n",
    "    print(f'args is {args} \\n')\n",
    "    multiply=1\n",
    "    for i in args:\n",
    "        multiply=multiply*i\n",
    "    return multiply\n",
    "\n",
    "print(multiply_nums(200,2,3,4))\n",
    "\n",
    "#num=200\n",
    "#args=(2,3,4) # 2*3*4=24 :) "
   ]
  },
  {
   "cell_type": "code",
   "execution_count": 10,
   "metadata": {},
   "outputs": [
    {
     "name": "stdout",
     "output_type": "stream",
     "text": [
      "args is () \n",
      "\n",
      "1\n"
     ]
    }
   ],
   "source": [
    "# *args with normal parameter \n",
    "#yaha num is normal parameter \n",
    "def multiply_nums(*args):\n",
    "    print(f'args is {args} \\n')\n",
    "    multiply=1\n",
    "    for i in args:\n",
    "        multiply=multiply*i\n",
    "    return multiply\n",
    "\n",
    "print(multiply_nums())\n",
    "#function ke ander koi argument pass nai karaya toh khali tuple mil jayega\n",
    "# :)\n",
    "\n",
    "#def multiply_nums(num , *args):\n",
    "#    print(f'args is {args} \\n')\n",
    "#    multiply=1\n",
    "#    for i in args:\n",
    "#        multiply=multiply*i\n",
    "#    return multiply\n",
    "\n",
    "#print(multiply_nums())\n",
    "#ab error ayega kyuki num me kuch nai gya \n",
    "#and num toh normal parameter hai \n",
    "\n",
    "\n"
   ]
  },
  {
   "cell_type": "code",
   "execution_count": 13,
   "metadata": {},
   "outputs": [
    {
     "name": "stdout",
     "output_type": "stream",
     "text": [
      "args is () \n",
      "\n",
      "2\n",
      "4\n",
      "1\n"
     ]
    }
   ],
   "source": [
    "def multiply_nums(num_1,num_2,*args):\n",
    "    print(f'args is {args} \\n')\n",
    "    print(num_1)\n",
    "    print(num_2)\n",
    "    multiply=1\n",
    "    for i in args:\n",
    "        multiply=multiply*i\n",
    "    return multiply\n",
    "\n",
    "print(multiply_nums(2,4))\n",
    "#abhi two normal parameteres hai toh min do two number toh daalne padenge\n",
    "#func mein  #args me khali tuple "
   ]
  },
  {
   "cell_type": "code",
   "execution_count": 14,
   "metadata": {},
   "outputs": [],
   "source": [
    "#def multiply_nums(*args , num): #--> error ayegi \n",
    "   # print(f'args is {args} \\n')\n",
    "   # print(num_1)\n",
    "  # print(num_2)\n",
    "  #  multiply=1\n",
    "  #  for i in args:\n",
    " #       multiply=multiply*i\n",
    " #   return multiply\n",
    "# humesha normal parameter pehle hona chahiye , uske baad *args"
   ]
  },
  {
   "cell_type": "code",
   "execution_count": null,
   "metadata": {},
   "outputs": [],
   "source": []
  }
 ],
 "metadata": {
  "kernelspec": {
   "display_name": "Python 3",
   "language": "python",
   "name": "python3"
  },
  "language_info": {
   "codemirror_mode": {
    "name": "ipython",
    "version": 3
   },
   "file_extension": ".py",
   "mimetype": "text/x-python",
   "name": "python",
   "nbconvert_exporter": "python",
   "pygments_lexer": "ipython3",
   "version": "3.6.5"
  }
 },
 "nbformat": 4,
 "nbformat_minor": 2
}
