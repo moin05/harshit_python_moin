{
 "cells": [
  {
   "cell_type": "code",
   "execution_count": 1,
   "metadata": {},
   "outputs": [],
   "source": [
    "#list comprehension with if else\n",
    "nums=[1,2,3,4,5,6,7,8,9,10]\n",
    "#new_list=[-1,4,-3,8......]\n",
    "#agar odd number hai list me toh usko negative karo\n",
    "#agar even number hai toh usko 2 se multiply karo "
   ]
  },
  {
   "cell_type": "code",
   "execution_count": 5,
   "metadata": {},
   "outputs": [
    {
     "name": "stdout",
     "output_type": "stream",
     "text": [
      "[-1, 4, -3, 8, -5, 12, -7, 16, -9, 20]\n"
     ]
    }
   ],
   "source": [
    "new_list1=[]\n",
    "for i in nums:\n",
    "    if i%2 == 1:\n",
    "        new_list1.append(-i)\n",
    "    else:\n",
    "        new_list1.append(i*2)\n",
    "print(new_list)        "
   ]
  },
  {
   "cell_type": "code",
   "execution_count": 4,
   "metadata": {},
   "outputs": [
    {
     "name": "stdout",
     "output_type": "stream",
     "text": [
      "[-1, 4, -3, 8, -5, 12, -7, 16, -9, 20]\n"
     ]
    }
   ],
   "source": [
    "#Using list comprehension \n",
    "new_list2=[i*2 if i%2==0 else -i for i in nums] \n",
    "print(new_list2)\n",
    "#jab khali if tha , tab usko apan last me likhte the \n",
    "#jab if else dono ho tab if else ko starting me "
   ]
  },
  {
   "cell_type": "code",
   "execution_count": null,
   "metadata": {},
   "outputs": [],
   "source": []
  }
 ],
 "metadata": {
  "kernelspec": {
   "display_name": "Python 3",
   "language": "python",
   "name": "python3"
  },
  "language_info": {
   "codemirror_mode": {
    "name": "ipython",
    "version": 3
   },
   "file_extension": ".py",
   "mimetype": "text/x-python",
   "name": "python",
   "nbconvert_exporter": "python",
   "pygments_lexer": "ipython3",
   "version": "3.6.5"
  }
 },
 "nbformat": 4,
 "nbformat_minor": 2
}
