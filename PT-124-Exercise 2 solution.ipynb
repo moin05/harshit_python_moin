{
 "cells": [
  {
   "cell_type": "code",
   "execution_count": 5,
   "metadata": {},
   "outputs": [
    {
     "name": "stdout",
     "output_type": "stream",
     "text": [
      "Enter your name :harshit\n",
      "Enter your age : 24\n",
      "Enter fav movies :m1,m2\n",
      "Enter fav songs :s1,s2\n",
      "name: harshit\n",
      "age: 24\n",
      "fav_movies: ['m1', 'm2']\n",
      "fav_songs: ['s1', 's2']\n"
     ]
    }
   ],
   "source": [
    "name=input('Enter your name :')\n",
    "age=int(input('Enter your age : '))\n",
    "fav_movies=input('Enter fav movies :').split(',')\n",
    "fav_songs=input('Enter fav songs :').split(',')\n",
    "\n",
    "user={}\n",
    "user['name']=name\n",
    "user['age']=age\n",
    "user['fav_movies']=fav_movies\n",
    "user['fav_songs']=fav_songs\n",
    "#print(user)\n",
    "\n",
    "for key,value in user.items():\n",
    "    print(f'{key}: {value}')\n",
    "\n",
    " "
   ]
  },
  {
   "cell_type": "code",
   "execution_count": null,
   "metadata": {},
   "outputs": [],
   "source": []
  }
 ],
 "metadata": {
  "kernelspec": {
   "display_name": "Python 3",
   "language": "python",
   "name": "python3"
  },
  "language_info": {
   "codemirror_mode": {
    "name": "ipython",
    "version": 3
   },
   "file_extension": ".py",
   "mimetype": "text/x-python",
   "name": "python",
   "nbconvert_exporter": "python",
   "pygments_lexer": "ipython3",
   "version": "3.6.5"
  }
 },
 "nbformat": 4,
 "nbformat_minor": 2
}
