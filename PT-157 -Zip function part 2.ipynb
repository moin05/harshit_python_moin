{
 "cells": [
  {
   "cell_type": "code",
   "execution_count": 10,
   "metadata": {},
   "outputs": [
    {
     "name": "stdout",
     "output_type": "stream",
     "text": [
      "[(1, 2), (3, 4), (5, 6), (7, 8)]\n"
     ]
    }
   ],
   "source": [
    "l1=[1,3,5,7]\n",
    "l2=[2,4,6,8]\n",
    "l=list(zip(l1,l2))\n",
    "print(l)"
   ]
  },
  {
   "cell_type": "code",
   "execution_count": null,
   "metadata": {},
   "outputs": [],
   "source": [
    "#ab apan ko l=[(1, 2), (3, 4), (5, 6), (7, 8)] yeh diya hai\n",
    "#isko l1 aur l2 me convert krna hai !\n"
   ]
  },
  {
   "cell_type": "code",
   "execution_count": 9,
   "metadata": {},
   "outputs": [
    {
     "name": "stdout",
     "output_type": "stream",
     "text": [
      "[1, 3, 5, 7]\n",
      "[2, 4, 6, 8]\n"
     ]
    }
   ],
   "source": [
    "#using List Compreshension\n",
    "naya_lis=[list(i) for i in l]\n",
    "l1=[i[0] for i in naya_lis]\n",
    "print(l1)\n",
    "l2=[i[1] for i in naya_lis]\n",
    "print(l2)"
   ]
  },
  {
   "cell_type": "code",
   "execution_count": 15,
   "metadata": {},
   "outputs": [
    {
     "name": "stdout",
     "output_type": "stream",
     "text": [
      "[(1, 3, 5, 7), (2, 4, 6, 8)]\n",
      "(1, 3, 5, 7)\n",
      "(2, 4, 6, 8)\n",
      "[1, 3, 5, 7]\n",
      "[2, 4, 6, 8]\n"
     ]
    }
   ],
   "source": [
    "#Using * operator with zip \n",
    "#l=[(1, 2), (3, 4), (5, 6), (7, 8)]\n",
    "print(list(zip(*l)))  \n",
    "#do tuple banjaenge (1,3,5,7) aur (2,4,6,8)\n",
    "l1,l2=list(zip(*l))\n",
    "print(l1)\n",
    "print(l2)\n",
    "\n",
    "print(list(l1))\n",
    "print(list(l2))\n"
   ]
  },
  {
   "cell_type": "code",
   "execution_count": 18,
   "metadata": {},
   "outputs": [
    {
     "name": "stdout",
     "output_type": "stream",
     "text": [
      "[2, 5, 7, 8]\n"
     ]
    }
   ],
   "source": [
    "liss_3=[2,4,6,8]\n",
    "liss_4=[1,5,7,7]\n",
    "#apan ko aisi list banani hai,jisme l3 l4 ke corresponding elements me se\n",
    "#jo element bada ho , woh rahe \n",
    "#l5=[2,5,7,8]\n",
    "new_list=[]\n",
    "for pair in zip(liss_3,liss_4):\n",
    "    new_list.append(max(pair))\n",
    "    \n",
    "print(new_list)"
   ]
  }
 ],
 "metadata": {
  "kernelspec": {
   "display_name": "Python 3",
   "language": "python",
   "name": "python3"
  },
  "language_info": {
   "codemirror_mode": {
    "name": "ipython",
    "version": 3
   },
   "file_extension": ".py",
   "mimetype": "text/x-python",
   "name": "python",
   "nbconvert_exporter": "python",
   "pygments_lexer": "ipython3",
   "version": "3.6.5"
  }
 },
 "nbformat": 4,
 "nbformat_minor": 2
}
