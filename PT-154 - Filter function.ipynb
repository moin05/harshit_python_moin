{
 "cells": [
  {
   "cell_type": "code",
   "execution_count": 3,
   "metadata": {},
   "outputs": [],
   "source": [
    "#Filter function\n",
    "\n",
    "def is_even(a):\n",
    "    return a%2==0\n",
    "\n",
    "numbers=[3,4,2,1,5,6,9,8,10]\n",
    "even=[]\n",
    "#numbers list me jo bhi even nos hai usko filter krke even wali \n",
    "#list me daalna hai "
   ]
  },
  {
   "cell_type": "code",
   "execution_count": 4,
   "metadata": {},
   "outputs": [
    {
     "data": {
      "text/plain": [
       "[4, 2, 6, 8, 10]"
      ]
     },
     "execution_count": 4,
     "metadata": {},
     "output_type": "execute_result"
    }
   ],
   "source": [
    "for i in numbers:\n",
    "    if i%2==0:\n",
    "        even.append(i)\n",
    "even        \n",
    "        "
   ]
  },
  {
   "cell_type": "code",
   "execution_count": 5,
   "metadata": {},
   "outputs": [
    {
     "data": {
      "text/plain": [
       "[4, 2, 6, 8, 10]"
      ]
     },
     "execution_count": 5,
     "metadata": {},
     "output_type": "execute_result"
    }
   ],
   "source": [
    "#list comprehension \n",
    "eeven=[i  for i in numbers if i%2==0]\n",
    "eeven"
   ]
  },
  {
   "cell_type": "code",
   "execution_count": 9,
   "metadata": {},
   "outputs": [
    {
     "name": "stdout",
     "output_type": "stream",
     "text": [
      "[4, 2, 6, 8, 10]\n",
      "4\n",
      "2\n",
      "6\n",
      "8\n",
      "10\n",
      "4\n",
      "2\n",
      "6\n",
      "8\n",
      "10\n"
     ]
    }
   ],
   "source": [
    "# using Filter \n",
    "# filter(FuncKaNaam,Iterable)\n",
    "#filter(lambda x:x%2==0,numbers)\n",
    "eeeven=list(filter(lambda x:x%2==0,numbers))\n",
    "print(eeeven)\n",
    "for i in eeeven:\n",
    "    print(i)\n",
    "for j in eeeven:\n",
    "    print(j)\n",
    "#eeeven is a list , toh isme kitni bhi baar loop chala skte hai !     "
   ]
  },
  {
   "cell_type": "code",
   "execution_count": 7,
   "metadata": {},
   "outputs": [
    {
     "name": "stdout",
     "output_type": "stream",
     "text": [
      "<filter object at 0x000001B70202DF28>\n",
      "4\n",
      "2\n",
      "6\n",
      "8\n",
      "10\n"
     ]
    }
   ],
   "source": [
    "eeeeeven=filter(lambda x:x%2==0,numbers)\n",
    "print(eeeeeven)\n",
    "for j in eeeeeven:\n",
    "    print(j)\n",
    "for k in eeeeeven:\n",
    "    print(k)\n",
    "# eeeeeven is a filter object toh isme khali ek baar loop chalega      \n",
    "   "
   ]
  },
  {
   "cell_type": "code",
   "execution_count": null,
   "metadata": {},
   "outputs": [],
   "source": []
  }
 ],
 "metadata": {
  "kernelspec": {
   "display_name": "Python 3",
   "language": "python",
   "name": "python3"
  },
  "language_info": {
   "codemirror_mode": {
    "name": "ipython",
    "version": 3
   },
   "file_extension": ".py",
   "mimetype": "text/x-python",
   "name": "python",
   "nbconvert_exporter": "python",
   "pygments_lexer": "ipython3",
   "version": "3.6.5"
  }
 },
 "nbformat": 4,
 "nbformat_minor": 2
}
