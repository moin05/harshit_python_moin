{
 "cells": [
  {
   "cell_type": "code",
   "execution_count": 1,
   "metadata": {},
   "outputs": [],
   "source": [
    "# Decorators- enchance the functionality of other functions"
   ]
  },
  {
   "cell_type": "code",
   "execution_count": 5,
   "metadata": {},
   "outputs": [],
   "source": [
    "def func1():\n",
    "    print('this is function 1')\n",
    "    \n",
    "def func2():\n",
    "    print('this is function 2')\n",
    "    \n",
    "#ab , i want ko jab mai func1 ya func2 koo call karu , tab 'i m awesome' bhi print ho    "
   ]
  },
  {
   "cell_type": "code",
   "execution_count": 9,
   "metadata": {},
   "outputs": [
    {
     "data": {
      "text/plain": [
       "<function __main__.func1()>"
      ]
     },
     "execution_count": 9,
     "metadata": {},
     "output_type": "execute_result"
    }
   ],
   "source": [
    "func1"
   ]
  },
  {
   "cell_type": "code",
   "execution_count": 11,
   "metadata": {},
   "outputs": [
    {
     "name": "stdout",
     "output_type": "stream",
     "text": [
      "this is function 1\n"
     ]
    }
   ],
   "source": [
    "func1()"
   ]
  },
  {
   "cell_type": "code",
   "execution_count": 12,
   "metadata": {},
   "outputs": [],
   "source": [
    "def awe():\n",
    "    print('i m awesome')\n",
    "\n",
    "def func1():\n",
    "    print('this is function 1')\n",
    "    return awe()\n",
    "\n",
    "def func2():\n",
    "    print('this is function 2')\n",
    "    return awe()\n",
    "    \n",
    "#ab , i want ko jab mai func1 ya func2 koo call karu , tab 'i m awesome' bhi print ho    "
   ]
  },
  {
   "cell_type": "code",
   "execution_count": 14,
   "metadata": {},
   "outputs": [
    {
     "name": "stdout",
     "output_type": "stream",
     "text": [
      "this is function 1\n",
      "i m awesome\n"
     ]
    }
   ],
   "source": [
    "func1()"
   ]
  },
  {
   "cell_type": "code",
   "execution_count": 15,
   "metadata": {},
   "outputs": [],
   "source": [
    "# Alternate way\n",
    "\n",
    "def decorator_func(any_func):\n",
    "    def wrapped_func():\n",
    "        print('i m awesome')\n",
    "        any_func()\n",
    "    return wrapped_func    \n",
    "\n",
    "def func1():\n",
    "    print('this is function 1')\n",
    "    \n",
    "def func2():\n",
    "    print('this is function 2')\n",
    "    "
   ]
  },
  {
   "cell_type": "code",
   "execution_count": 18,
   "metadata": {},
   "outputs": [
    {
     "name": "stdout",
     "output_type": "stream",
     "text": [
      "i m awesome\n",
      "this is function 1\n"
     ]
    }
   ],
   "source": [
    "var = decorator_func(func1)   #ab wrapped_func is same as var\n",
    "var()"
   ]
  },
  {
   "cell_type": "code",
   "execution_count": 19,
   "metadata": {},
   "outputs": [
    {
     "name": "stdout",
     "output_type": "stream",
     "text": [
      "i m awesome\n",
      "this is function 2\n"
     ]
    }
   ],
   "source": [
    "var = decorator_func(func2)   #ab wrapped_func is same as var\n",
    "var()"
   ]
  },
  {
   "cell_type": "code",
   "execution_count": 20,
   "metadata": {},
   "outputs": [],
   "source": [
    "# use @ for decorator function !"
   ]
  },
  {
   "cell_type": "code",
   "execution_count": 26,
   "metadata": {},
   "outputs": [],
   "source": [
    "def decorator_func(any_func):\n",
    "    def wrapped_func():\n",
    "        print('i m awesomeeee')\n",
    "        any_func()\n",
    "    return wrapped_func    \n",
    "\n",
    "@decorator_func  \n",
    "def func1():#jab bhi func1 ko call karunga tab decorator_func apne aap pehle call hoga\n",
    "    print('this is function 1')        #aur usme func1 pass ho jayega !\n",
    "\n",
    "@decorator_func    \n",
    "def func2():\n",
    "    print('this is function 2')\n",
    "    "
   ]
  },
  {
   "cell_type": "code",
   "execution_count": 27,
   "metadata": {},
   "outputs": [
    {
     "name": "stdout",
     "output_type": "stream",
     "text": [
      "i m awesomeeee\n",
      "this is function 1\n"
     ]
    }
   ],
   "source": [
    "func1()"
   ]
  },
  {
   "cell_type": "code",
   "execution_count": 28,
   "metadata": {},
   "outputs": [
    {
     "name": "stdout",
     "output_type": "stream",
     "text": [
      "i m awesomeeee\n",
      "this is function 2\n"
     ]
    }
   ],
   "source": [
    "func2()"
   ]
  },
  {
   "cell_type": "code",
   "execution_count": null,
   "metadata": {},
   "outputs": [],
   "source": []
  }
 ],
 "metadata": {
  "kernelspec": {
   "display_name": "Python 3",
   "language": "python",
   "name": "python3"
  },
  "language_info": {
   "codemirror_mode": {
    "name": "ipython",
    "version": 3
   },
   "file_extension": ".py",
   "mimetype": "text/x-python",
   "name": "python",
   "nbconvert_exporter": "python",
   "pygments_lexer": "ipython3",
   "version": "3.6.5"
  }
 },
 "nbformat": 4,
 "nbformat_minor": 2
}
