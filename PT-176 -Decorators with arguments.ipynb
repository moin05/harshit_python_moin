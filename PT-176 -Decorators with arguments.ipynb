{
 "cells": [
  {
   "cell_type": "code",
   "execution_count": 7,
   "metadata": {},
   "outputs": [
    {
     "name": "stdout",
     "output_type": "stream",
     "text": [
      "moinrawani\n",
      "invalid arguments\n",
      "None\n"
     ]
    }
   ],
   "source": [
    "# now i want ko data type bhi mai hi specify karu \n",
    "# ab pure deco func ko apan ek func ke ander daal denge \n",
    "#this might sound complex , but its very very easy \n",
    "\n",
    "from functools import wraps\n",
    "\n",
    "def only_data_type_allow(data_type_i_want):\n",
    "    def decorator(function):\n",
    "        wraps(function)\n",
    "        def wrapper_function(*args,**kwargs):\n",
    "            data_type=[]\n",
    "            for i in args:\n",
    "                data_type.append(type(i)==data_type_i_want)\n",
    "            if all(data_type):\n",
    "                return function(*args,**kwargs)\n",
    "            else:\n",
    "                print('invalid arguments')\n",
    "        return wrapper_function        \n",
    "    return decorator\n",
    "\n",
    "@only_data_type_allow(str)    \n",
    "def string_join(*args):\n",
    "    string=''\n",
    "    for i in args:\n",
    "        string=string+i\n",
    "    return string\n",
    "\n",
    "print(string_join('moin','rawani'))\n",
    "\n",
    "print(string_join('moin','rawani',2,3,4))"
   ]
  }
 ],
 "metadata": {
  "kernelspec": {
   "display_name": "Python 2",
   "language": "python",
   "name": "python2"
  },
  "language_info": {
   "codemirror_mode": {
    "name": "ipython",
    "version": 2
   },
   "file_extension": ".py",
   "mimetype": "text/x-python",
   "name": "python",
   "nbconvert_exporter": "python",
   "pygments_lexer": "ipython2",
   "version": "2.7.16"
  },
  "widgets": {
   "state": {},
   "version": "1.1.2"
  }
 },
 "nbformat": 4,
 "nbformat_minor": 2
}
