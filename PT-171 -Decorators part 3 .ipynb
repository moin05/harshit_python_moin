{
 "cells": [
  {
   "cell_type": "code",
   "execution_count": 6,
   "metadata": {},
   "outputs": [
    {
     "name": "stdout",
     "output_type": "stream",
     "text": [
      "i m awesomee\n",
      "This is wrapper function\n",
      "wrapper_func\n"
     ]
    }
   ],
   "source": [
    "def decorator_func(any_function):\n",
    "    def wrapper_func(*args,**kwargs):\n",
    "        '''This is wrapper function'''\n",
    "        print('i m awesomee')\n",
    "        return any_function(*args,**kwargs)   \n",
    "    return wrapper_func                 \n",
    "\n",
    "@decorator_func\n",
    "def add_func(a,b):\n",
    "    '''this is add function'''\n",
    "    return a+b\n",
    "\n",
    "add_func(2,3)\n",
    "\n",
    "print(add_func.__doc__) #isme wrapper func ka docstring aara hai \n",
    "print(add_func.__name__) #isme wrapper func ka name aara hai"
   ]
  },
  {
   "cell_type": "code",
   "execution_count": 7,
   "metadata": {},
   "outputs": [
    {
     "name": "stdout",
     "output_type": "stream",
     "text": [
      "i m awesomee\n",
      "this is add function\n",
      "add_func\n"
     ]
    }
   ],
   "source": [
    "#this solves the issue\n",
    "\n",
    "from functools import wraps\n",
    "\n",
    "def decorator_func(any_function):\n",
    "    @wraps(any_function)\n",
    "    def wrapper_func(*args,**kwargs):\n",
    "        '''This is wrapper function'''\n",
    "        print('i m awesomee')\n",
    "        return any_function(*args,**kwargs)   \n",
    "    return wrapper_func                 \n",
    "\n",
    "@decorator_func\n",
    "def add_func(a,b):\n",
    "    '''this is add function'''\n",
    "    return a+b\n",
    "\n",
    "add_func(2,3)\n",
    "\n",
    "print(add_func.__doc__) #isme add_func ka docstring aara hai \n",
    "print(add_func.__name__) #isme add_func ka name aara hai"
   ]
  },
  {
   "cell_type": "code",
   "execution_count": null,
   "metadata": {},
   "outputs": [],
   "source": []
  }
 ],
 "metadata": {
  "kernelspec": {
   "display_name": "Python 3",
   "language": "python",
   "name": "python3"
  },
  "language_info": {
   "codemirror_mode": {
    "name": "ipython",
    "version": 3
   },
   "file_extension": ".py",
   "mimetype": "text/x-python",
   "name": "python",
   "nbconvert_exporter": "python",
   "pygments_lexer": "ipython3",
   "version": "3.6.5"
  }
 },
 "nbformat": 4,
 "nbformat_minor": 2
}
