{
 "cells": [
  {
   "cell_type": "code",
   "execution_count": 1,
   "metadata": {},
   "outputs": [],
   "source": [
    "class Circle:\n",
    "    def __init__(self,radius,pi):\n",
    "        self.radius=radius\n",
    "        self.pi=pi\n",
    "    def circumference(self):\n",
    "        return (2*self.pi*self.radius)"
   ]
  },
  {
   "cell_type": "code",
   "execution_count": 5,
   "metadata": {},
   "outputs": [
    {
     "name": "stdout",
     "output_type": "stream",
     "text": [
      "12.56\n"
     ]
    }
   ],
   "source": [
    "circle_1=Circle(2,3.14)\n",
    "print(circle_1.circumference())\n",
    "# Har object me tumko pi ki value pass krni padegi -_-"
   ]
  },
  {
   "cell_type": "code",
   "execution_count": 9,
   "metadata": {},
   "outputs": [
    {
     "name": "stdout",
     "output_type": "stream",
     "text": [
      "12.56\n"
     ]
    }
   ],
   "source": [
    "class Circle:\n",
    "    pi=3.14\n",
    "    def __init__(self,radius):\n",
    "        self.radius=radius\n",
    "    def circumference(self):\n",
    "        return (2*Circle.pi*self.radius)\n",
    "#               ^^^^^^^^^ Circle.pi likhenge kyuki ab yeh class variable hai :)\n",
    "circle_1 = Circle(2)\n",
    "print(circle_1.circumference())    "
   ]
  },
  {
   "cell_type": "code",
   "execution_count": 13,
   "metadata": {},
   "outputs": [
    {
     "data": {
      "text/plain": [
       "3600.0"
      ]
     },
     "execution_count": 13,
     "metadata": {},
     "output_type": "execute_result"
    }
   ],
   "source": [
    "# Agar har laptop me 10 percent discount hai\n",
    "class Laptop:\n",
    "    how_much=10\n",
    "    def __init__(self,model,brand,price):\n",
    "        self.model_name=model\n",
    "        self.brand_name=brand\n",
    "        self.price_kitna=price\n",
    "        self.full_name=model+brand\n",
    "    def apply_discount(self):\n",
    "        return (self.price_kitna -((Laptop.how_much*0.01)*self.price_kitna))\n",
    "\n",
    "l1=Laptop('leno','ak47',4000)\n",
    "l1.apply_discount()\n"
   ]
  },
  {
   "cell_type": "code",
   "execution_count": null,
   "metadata": {},
   "outputs": [],
   "source": [
    "# Agar kuch laptop me special offer hai , toh woh kaise karnge , next video\n",
    "# me dekhenge "
   ]
  }
 ],
 "metadata": {
  "kernelspec": {
   "display_name": "Python 3",
   "language": "python",
   "name": "python3"
  },
  "language_info": {
   "codemirror_mode": {
    "name": "ipython",
    "version": 3
   },
   "file_extension": ".py",
   "mimetype": "text/x-python",
   "name": "python",
   "nbconvert_exporter": "python",
   "pygments_lexer": "ipython3",
   "version": "3.7.0"
  },
  "widgets": {
   "state": {},
   "version": "1.1.2"
  }
 },
 "nbformat": 4,
 "nbformat_minor": 2
}
