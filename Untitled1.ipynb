{
 "cells": [
  {
   "cell_type": "code",
   "execution_count": 68,
   "metadata": {},
   "outputs": [
    {
     "name": "stdout",
     "output_type": "stream",
     "text": [
      "['Q', 'W', 'R', 'T', 'Y', 'P', 'S', 'D', 'F', 'G', 'H', 'J', 'K', 'L', 'Z', 'X', 'C', 'V', 'B', 'N', 'M']\n",
      "['A', 'E', 'I', 'O', 'U']\n"
     ]
    }
   ],
   "source": [
    "string='BANANA'\n",
    "\n",
    "vow = ['A','E','I','O','U']\n",
    "alpha = ['Q','W','E','R','T','Y','U','I','O','P','A','S','D','F','G','H','J','K','L','Z','X','C','V','B','N','M']\n",
    "\n",
    "conso = [i for i in alpha if i not in vow]\n",
    "print(conso)\n",
    "print(vow)"
   ]
  },
  {
   "cell_type": "code",
   "execution_count": 69,
   "metadata": {},
   "outputs": [
    {
     "name": "stdout",
     "output_type": "stream",
     "text": [
      "['B', 'N', 'N']\n"
     ]
    },
    {
     "data": {
      "text/plain": [
       "['BANANA', 'NANA', 'NA']"
      ]
     },
     "execution_count": 69,
     "metadata": {},
     "output_type": "execute_result"
    }
   ],
   "source": [
    "stuart=[i for i in string if i in conso]\n",
    "print(stuart)\n",
    "liss=[]\n",
    "for posi,k in enumerate(string):\n",
    "    if k in stuart:\n",
    "        liss.append(k+string[posi+1:])\n",
    "        \n",
    "liss        "
   ]
  },
  {
   "cell_type": "code",
   "execution_count": 70,
   "metadata": {},
   "outputs": [
    {
     "name": "stdout",
     "output_type": "stream",
     "text": [
      "['B', 'N', 'N']\n"
     ]
    },
    {
     "data": {
      "text/plain": [
       "['B',\n",
       " 'BA',\n",
       " 'BAN',\n",
       " 'BANA',\n",
       " 'BANAN',\n",
       " 'BANANA',\n",
       " 'N',\n",
       " 'N',\n",
       " 'N',\n",
       " 'NA',\n",
       " 'NAN',\n",
       " 'NANA',\n",
       " 'N',\n",
       " 'N',\n",
       " 'N',\n",
       " 'N',\n",
       " 'N',\n",
       " 'NA']"
      ]
     },
     "execution_count": 70,
     "metadata": {},
     "output_type": "execute_result"
    }
   ],
   "source": [
    "stuart=[i for i in string if i in conso]\n",
    "print(stuart)\n",
    "liss=[]\n",
    "for posi,k in enumerate(string):\n",
    "    if k in stuart:\n",
    "        for p in range(len(string)):\n",
    "            liss.append(k+string[posi+1:p+1])\n",
    "        \n",
    "liss        "
   ]
  },
  {
   "cell_type": "code",
   "execution_count": 77,
   "metadata": {},
   "outputs": [
    {
     "name": "stdout",
     "output_type": "stream",
     "text": [
      "[['B', 'BA', 'BAN', 'BANA', 'BANAN', 'BANANA'], ['N', 'NA', 'NAN', 'NANA'], ['N', 'NA']]\n"
     ]
    },
    {
     "data": {
      "text/plain": [
       "12"
      ]
     },
     "execution_count": 77,
     "metadata": {},
     "output_type": "execute_result"
    }
   ],
   "source": [
    "stuart=[i for i in string if i in conso]\n",
    "#print(stuart)\n",
    "liss2=[]\n",
    "for posi,k in enumerate(string):\n",
    "    if k in stuart:\n",
    "        liss=[k+string[posi+1:p+1+posi] for p in range(len(string)-posi)]\n",
    "        liss2.append(liss)\n",
    "        \n",
    "stuart_words=liss2\n",
    "print(stuart_words)\n",
    "\n",
    "total_stuart=0\n",
    "for i in range(len(stuart_words)):\n",
    "    total_stuart=total_stuart+len(stuart_words[i])\n",
    "    \n",
    "total_stuart    "
   ]
  },
  {
   "cell_type": "code",
   "execution_count": 76,
   "metadata": {},
   "outputs": [
    {
     "name": "stdout",
     "output_type": "stream",
     "text": [
      "[['A', 'AN', 'ANA', 'ANAN', 'ANANA'], ['A', 'AN', 'ANA'], ['A']]\n"
     ]
    },
    {
     "data": {
      "text/plain": [
       "9"
      ]
     },
     "execution_count": 76,
     "metadata": {},
     "output_type": "execute_result"
    }
   ],
   "source": [
    "kevin=[i for i in string if i in vow]\n",
    "#print(stuart)\n",
    "liss2=[]\n",
    "for posi,k in enumerate(string):\n",
    "    if k in kevin:\n",
    "        liss=[k+string[posi+1:p+1+posi] for p in range(len(string)-posi)]\n",
    "        liss2.append(liss)\n",
    "        \n",
    "kevin_words=liss2\n",
    "print(kevin_words)\n",
    "#for i in range(len(kevin_words)):\n",
    "#    kevin_words[i]=' '.join(kevin_words[i])\n",
    "#kevin_words    \n",
    "total_kevin=0\n",
    "for i in range(len(kevin_words)):\n",
    "    total_kevin=total_kevin+len(kevin_words[i])\n",
    "    \n",
    "total_kevin    "
   ]
  },
  {
   "cell_type": "code",
   "execution_count": 78,
   "metadata": {},
   "outputs": [
    {
     "name": "stdout",
     "output_type": "stream",
     "text": [
      "stuart\n"
     ]
    }
   ],
   "source": [
    "if total_kevin>total_stuart:\n",
    "    print('kevin')\n",
    "elif total_kevin<total_stuart:\n",
    "    print('stuart')\n",
    "else:\n",
    "    print('draw')"
   ]
  },
  {
   "cell_type": "code",
   "execution_count": 85,
   "metadata": {},
   "outputs": [
    {
     "name": "stdout",
     "output_type": "stream",
     "text": [
      "kevin 22\n"
     ]
    }
   ],
   "source": [
    "string='BAANAAAN'\n",
    "\n",
    "vow = ['A','E','I','O','U']\n",
    "alpha = ['Q','W','E','R','T','Y','U','I','O','P','A','S','D','F','G','H','J','K','L','Z','X','C','V','B','N','M']\n",
    "\n",
    "conso = [i for i in alpha if i not in vow]\n",
    "#print(conso)\n",
    "#print(vow)\n",
    "\n",
    "stuart=[i for i in string if i in conso]\n",
    "#print(stuart)\n",
    "liss2=[]\n",
    "for posi,k in enumerate(string):\n",
    "    if k in stuart:\n",
    "        liss=[k+string[posi+1:p+1+posi] for p in range(len(string)-posi)]\n",
    "        liss2.append(liss)\n",
    "        \n",
    "stuart_words=liss2\n",
    "#print(stuart_words)\n",
    "\n",
    "total_stuart=0\n",
    "for i in range(len(stuart_words)):\n",
    "    total_stuart=total_stuart+len(stuart_words[i])\n",
    "    \n",
    "total_stuart\n",
    "\n",
    "kevin=[i for i in string if i in vow]\n",
    "#print(stuart)\n",
    "liss2=[]\n",
    "for posi,k in enumerate(string):\n",
    "    if k in kevin:\n",
    "        liss=[k+string[posi+1:p+1+posi] for p in range(len(string)-posi)]\n",
    "        liss2.append(liss)\n",
    "        \n",
    "kevin_words=liss2\n",
    "#print(kevin_words)\n",
    "#for i in range(len(kevin_words)):\n",
    "#    kevin_words[i]=' '.join(kevin_words[i])\n",
    "#kevin_words    \n",
    "total_kevin=0\n",
    "for i in range(len(kevin_words)):\n",
    "    total_kevin=total_kevin+len(kevin_words[i])\n",
    "    \n",
    "total_kevin    \n",
    "\n",
    "if total_kevin>total_stuart:\n",
    "    print('kevin'+' '+str(total_kevin))\n",
    "elif total_kevin<total_stuart:\n",
    "    print('stuart'+' '+str(total_stuart))\n",
    "else:\n",
    "    print('draw')"
   ]
  }
 ],
 "metadata": {
  "kernelspec": {
   "display_name": "Python 3",
   "language": "python",
   "name": "python3"
  },
  "language_info": {
   "codemirror_mode": {
    "name": "ipython",
    "version": 3
   },
   "file_extension": ".py",
   "mimetype": "text/x-python",
   "name": "python",
   "nbconvert_exporter": "python",
   "pygments_lexer": "ipython3",
   "version": "3.6.5"
  }
 },
 "nbformat": 4,
 "nbformat_minor": 2
}
