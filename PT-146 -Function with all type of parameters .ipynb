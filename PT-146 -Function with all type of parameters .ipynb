{
 "cells": [
  {
   "cell_type": "code",
   "execution_count": 5,
   "metadata": {},
   "outputs": [
    {
     "name": "stdout",
     "output_type": "stream",
     "text": [
      "unknown\n",
      "24\n",
      "harshit\n",
      "24\n",
      "harshit\n",
      "25\n"
     ]
    }
   ],
   "source": [
    "#functions with all parameters\n",
    "#very important to understand \n",
    "\n",
    "#PADK\n",
    "\n",
    "#parameters\n",
    "#arguments\n",
    "#default parameters\n",
    "#kwargs \n",
    "\n",
    "def func(name='unknown' ,age=24): #yeh default paramenters padhe the\n",
    "    #function chapter mein\n",
    "    print(name)\n",
    "    print(age)\n",
    "    \n",
    "\n",
    "func()   \n",
    "func('harshit')\n",
    "func('harshit',25)"
   ]
  },
  {
   "cell_type": "code",
   "execution_count": 10,
   "metadata": {},
   "outputs": [
    {
     "name": "stdout",
     "output_type": "stream",
     "text": [
      "harshit\n",
      "(1, 2, 3)\n",
      "unknown\n",
      "{'a': 1, 'b': 2, 'c': 3}\n"
     ]
    }
   ],
   "source": [
    "#see Order of writing is important --> PADK\n",
    "#caution\n",
    "#func(#NORMALPARAMETERS,ARGS,DEFAULTPARAMETERS,KWARGS)\n",
    "#agar order badloge toh error ayega \n",
    "\n",
    "def func(name,*args,last_name='unknown',**kwargs):\n",
    "    print(name)\n",
    "    print(args)\n",
    "    print(last_name)\n",
    "    print(kwargs)\n",
    "\n",
    "\n",
    "func('harshit' , 1,2,3,a=1,b=2,c=3 )    "
   ]
  },
  {
   "cell_type": "code",
   "execution_count": null,
   "metadata": {},
   "outputs": [],
   "source": []
  }
 ],
 "metadata": {
  "kernelspec": {
   "display_name": "Python 3",
   "language": "python",
   "name": "python3"
  },
  "language_info": {
   "codemirror_mode": {
    "name": "ipython",
    "version": 3
   },
   "file_extension": ".py",
   "mimetype": "text/x-python",
   "name": "python",
   "nbconvert_exporter": "python",
   "pygments_lexer": "ipython3",
   "version": "3.6.5"
  }
 },
 "nbformat": 4,
 "nbformat_minor": 2
}
