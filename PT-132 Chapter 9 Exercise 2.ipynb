{
 "cells": [
  {
   "cell_type": "code",
   "execution_count": 1,
   "metadata": {},
   "outputs": [],
   "source": [
    "#num to string\n",
    "#define a function\n",
    "\n",
    "#example \n",
    "#input --> [True,False,[1,2,3],(1,2),1,3,1.0]\n",
    "#jo input wali list hai , usme jo integers/float hai , unko string banake \n",
    "#ek nayi list me store karo \n",
    "#output --> ['1','3','1.0']\n"
   ]
  },
  {
   "cell_type": "code",
   "execution_count": null,
   "metadata": {},
   "outputs": [],
   "source": []
  }
 ],
 "metadata": {
  "kernelspec": {
   "display_name": "Python 3",
   "language": "python",
   "name": "python3"
  },
  "language_info": {
   "codemirror_mode": {
    "name": "ipython",
    "version": 3
   },
   "file_extension": ".py",
   "mimetype": "text/x-python",
   "name": "python",
   "nbconvert_exporter": "python",
   "pygments_lexer": "ipython3",
   "version": "3.6.5"
  }
 },
 "nbformat": 4,
 "nbformat_minor": 2
}
