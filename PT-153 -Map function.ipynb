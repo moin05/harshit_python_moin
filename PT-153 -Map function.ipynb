{
 "cells": [
  {
   "cell_type": "code",
   "execution_count": 2,
   "metadata": {},
   "outputs": [],
   "source": [
    "#Map function\n",
    "\n",
    "numbers= [1,2,3,4]\n",
    "\n",
    "def square(a):\n",
    "    return a**2\n",
    "\n",
    "#apan ko numbers list ke har element ka sq krna hai , aur uski list banani\n",
    "#hai .... output [1,4,9,16]"
   ]
  },
  {
   "cell_type": "code",
   "execution_count": 3,
   "metadata": {},
   "outputs": [
    {
     "data": {
      "text/plain": [
       "[1, 4, 9, 16]"
      ]
     },
     "execution_count": 3,
     "metadata": {},
     "output_type": "execute_result"
    }
   ],
   "source": [
    "#Using list compreshension :)\n",
    "squared_list=[i**2 for i in numbers]\n",
    "squared_list\n",
    "    "
   ]
  },
  {
   "cell_type": "code",
   "execution_count": 4,
   "metadata": {},
   "outputs": [
    {
     "data": {
      "text/plain": [
       "[1, 4, 9, 16]"
      ]
     },
     "execution_count": 4,
     "metadata": {},
     "output_type": "execute_result"
    }
   ],
   "source": [
    "#with the help of map function \n",
    "\n",
    "#map(funcKaNaam,Iterable)\n",
    "#map(square,numbers)\n",
    "#squaress=map(square,numbers)\n",
    "#squaress\n",
    "\n",
    "squaress=list(map(square,numbers))\n",
    "squaress"
   ]
  },
  {
   "cell_type": "code",
   "execution_count": 5,
   "metadata": {},
   "outputs": [
    {
     "data": {
      "text/plain": [
       "[1, 4, 9, 16]"
      ]
     },
     "execution_count": 5,
     "metadata": {},
     "output_type": "execute_result"
    }
   ],
   "source": [
    "#shorteSST  way \n",
    "#func ki jagah lambda expression use krr skte :)\n",
    "squarrre = list(map(lambda x:x**2,numbers))\n",
    "squarrre"
   ]
  },
  {
   "cell_type": "code",
   "execution_count": 6,
   "metadata": {},
   "outputs": [
    {
     "data": {
      "text/plain": [
       "[1, 4, 9, 16]"
      ]
     },
     "execution_count": 6,
     "metadata": {},
     "output_type": "execute_result"
    }
   ],
   "source": [
    "#without list comprehension \n",
    "#without map func \n",
    "sqq=[]\n",
    "for i in numbers:\n",
    "    a=i**2\n",
    "    sqq.append(a)\n",
    "sqq    "
   ]
  },
  {
   "cell_type": "code",
   "execution_count": 7,
   "metadata": {},
   "outputs": [
    {
     "name": "stdout",
     "output_type": "stream",
     "text": [
      "[3, 4, 5]\n",
      "3\n",
      "4\n",
      "5\n",
      "3\n",
      "4\n",
      "5\n"
     ]
    },
    {
     "data": {
      "text/plain": [
       "[3, 4, 5]"
      ]
     },
     "execution_count": 7,
     "metadata": {},
     "output_type": "execute_result"
    }
   ],
   "source": [
    "names=['abc','abcd','abcde']\n",
    "#find the len of each element in the list\n",
    "\n",
    "\n",
    "#map func\n",
    "len_of_ele=list(map(lambda a:len(a),names))\n",
    "print(len_of_ele)\n",
    "\n",
    "#list comprehension \n",
    "len_of_ele_2=[len(a) for a in names]\n",
    "len_of_ele_2"
   ]
  },
  {
   "cell_type": "code",
   "execution_count": 11,
   "metadata": {},
   "outputs": [
    {
     "name": "stdout",
     "output_type": "stream",
     "text": [
      "<map object at 0x000000FA21E74A20>\n",
      "3\n",
      "4\n",
      "5\n"
     ]
    }
   ],
   "source": [
    "#Ab ek cheez dekho \n",
    "len_of_ele=map(lambda a:len(a),names)\n",
    "print(len_of_ele)\n",
    "#Abhi len_of_ele is a MAP object hence ,\n",
    "#apan ek hi baar loop chala skte hai, dusri baar\n",
    "#chala enge toh kuch nai hoga\n",
    "for i in len_of_ele:\n",
    "    print(i)\n",
    "for j in len_of_ele:\n",
    "    print(j)\n",
    "\n"
   ]
  },
  {
   "cell_type": "code",
   "execution_count": 12,
   "metadata": {},
   "outputs": [
    {
     "name": "stdout",
     "output_type": "stream",
     "text": [
      "[3, 4, 5]\n",
      "3\n",
      "4\n",
      "5\n",
      "3\n",
      "4\n",
      "5\n"
     ]
    }
   ],
   "source": [
    "len_of_ele=list(map(lambda a:len(a),names))\n",
    "print(len_of_ele)\n",
    "#Abhi len_of_ele me apan kitni bhi baar loop chala skte hai \n",
    "for i in len_of_ele:\n",
    "    print(i)\n",
    "for j in len_of_ele:\n",
    "    print(j)\n",
    "#smjh gya yeh concept !"
   ]
  },
  {
   "cell_type": "code",
   "execution_count": null,
   "metadata": {},
   "outputs": [],
   "source": []
  }
 ],
 "metadata": {
  "kernelspec": {
   "display_name": "Python 3",
   "language": "python",
   "name": "python3"
  },
  "language_info": {
   "codemirror_mode": {
    "name": "ipython",
    "version": 3
   },
   "file_extension": ".py",
   "mimetype": "text/x-python",
   "name": "python",
   "nbconvert_exporter": "python",
   "pygments_lexer": "ipython3",
   "version": "3.6.5"
  }
 },
 "nbformat": 4,
 "nbformat_minor": 2
}
