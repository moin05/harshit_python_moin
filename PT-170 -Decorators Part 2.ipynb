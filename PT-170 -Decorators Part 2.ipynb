{
 "cells": [
  {
   "cell_type": "code",
   "execution_count": 2,
   "metadata": {},
   "outputs": [],
   "source": [
    "def decorator_func():\n",
    "    def wrapper_func():\n",
    "        print('i m awesomee')\n",
    "        func()\n",
    "    return wrapper_func\n",
    "\n",
    "def func(a):\n",
    "    print(f'this is function with argument {a}')"
   ]
  },
  {
   "cell_type": "code",
   "execution_count": 17,
   "metadata": {},
   "outputs": [
    {
     "name": "stdout",
     "output_type": "stream",
     "text": [
      "i m awesomee\n"
     ]
    },
    {
     "ename": "TypeError",
     "evalue": "func() missing 1 required positional argument: 'a'",
     "output_type": "error",
     "traceback": [
      "\u001b[1;31m---------------------------------------------------------------------------\u001b[0m",
      "\u001b[1;31mTypeError\u001b[0m                                 Traceback (most recent call last)",
      "\u001b[1;32m<ipython-input-17-0605c7197bf8>\u001b[0m in \u001b[0;36m<module>\u001b[1;34m()\u001b[0m\n\u001b[0;32m      9\u001b[0m \u001b[1;33m\u001b[0m\u001b[0m\n\u001b[0;32m     10\u001b[0m \u001b[0mvar\u001b[0m\u001b[1;33m=\u001b[0m\u001b[0mdecorator_func\u001b[0m\u001b[1;33m(\u001b[0m\u001b[0mfunc\u001b[0m\u001b[1;33m)\u001b[0m   \u001b[1;31m# ab wrapper_func is same as var\u001b[0m\u001b[1;33m\u001b[0m\u001b[0m\n\u001b[1;32m---> 11\u001b[1;33m \u001b[0mvar\u001b[0m\u001b[1;33m(\u001b[0m\u001b[1;33m)\u001b[0m\u001b[1;33m\u001b[0m\u001b[0m\n\u001b[0m\u001b[0;32m     12\u001b[0m \u001b[1;33m\u001b[0m\u001b[0m\n\u001b[0;32m     13\u001b[0m \u001b[1;31m#any_function is same as func , but func takes an argument , whereas any_function doesnot\u001b[0m\u001b[1;33m\u001b[0m\u001b[1;33m\u001b[0m\u001b[0m\n",
      "\u001b[1;32m<ipython-input-17-0605c7197bf8>\u001b[0m in \u001b[0;36mwrapper_func\u001b[1;34m()\u001b[0m\n\u001b[0;32m      2\u001b[0m     \u001b[1;32mdef\u001b[0m \u001b[0mwrapper_func\u001b[0m\u001b[1;33m(\u001b[0m\u001b[1;33m)\u001b[0m\u001b[1;33m:\u001b[0m\u001b[1;33m\u001b[0m\u001b[0m\n\u001b[0;32m      3\u001b[0m         \u001b[0mprint\u001b[0m\u001b[1;33m(\u001b[0m\u001b[1;34m'i m awesomee'\u001b[0m\u001b[1;33m)\u001b[0m\u001b[1;33m\u001b[0m\u001b[0m\n\u001b[1;32m----> 4\u001b[1;33m         \u001b[0many_function\u001b[0m\u001b[1;33m(\u001b[0m\u001b[1;33m)\u001b[0m\u001b[1;33m\u001b[0m\u001b[0m\n\u001b[0m\u001b[0;32m      5\u001b[0m     \u001b[1;32mreturn\u001b[0m \u001b[0mwrapper_func\u001b[0m\u001b[1;33m\u001b[0m\u001b[0m\n\u001b[0;32m      6\u001b[0m \u001b[1;33m\u001b[0m\u001b[0m\n",
      "\u001b[1;31mTypeError\u001b[0m: func() missing 1 required positional argument: 'a'"
     ]
    }
   ],
   "source": [
    "def decorator_func(any_function):\n",
    "    def wrapper_func():\n",
    "        print('i m awesomee')\n",
    "        any_function()\n",
    "    return wrapper_func\n",
    "\n",
    "def func(a):\n",
    "    print(f'this is function with argument {a}')\n",
    "    \n",
    "var=decorator_func(func)   # ab wrapper_func is same as var   \n",
    "var()\n",
    "\n",
    "#any_function is same as func , but func takes an argument , whereas any_function doesnot \n",
    "#take any argument \n",
    "\n",
    "# hence agar mai @decorator_func likhu toh bhi error ayegi "
   ]
  },
  {
   "cell_type": "code",
   "execution_count": 14,
   "metadata": {},
   "outputs": [
    {
     "name": "stdout",
     "output_type": "stream",
     "text": [
      "i m awesomee\n"
     ]
    },
    {
     "ename": "TypeError",
     "evalue": "func() missing 1 required positional argument: 'a'",
     "output_type": "error",
     "traceback": [
      "\u001b[1;31m---------------------------------------------------------------------------\u001b[0m",
      "\u001b[1;31mTypeError\u001b[0m                                 Traceback (most recent call last)",
      "\u001b[1;32m<ipython-input-14-2f88b9e2e2b8>\u001b[0m in \u001b[0;36m<module>\u001b[1;34m()\u001b[0m\n\u001b[0;32m      9\u001b[0m     \u001b[0mprint\u001b[0m\u001b[1;33m(\u001b[0m\u001b[1;34mf'this is function with argument {a}'\u001b[0m\u001b[1;33m)\u001b[0m\u001b[1;33m\u001b[0m\u001b[0m\n\u001b[0;32m     10\u001b[0m \u001b[1;33m\u001b[0m\u001b[0m\n\u001b[1;32m---> 11\u001b[1;33m \u001b[0mfunc\u001b[0m\u001b[1;33m(\u001b[0m\u001b[1;33m)\u001b[0m\u001b[1;33m\u001b[0m\u001b[0m\n\u001b[0m",
      "\u001b[1;32m<ipython-input-14-2f88b9e2e2b8>\u001b[0m in \u001b[0;36mwrapper_func\u001b[1;34m()\u001b[0m\n\u001b[0;32m      2\u001b[0m     \u001b[1;32mdef\u001b[0m \u001b[0mwrapper_func\u001b[0m\u001b[1;33m(\u001b[0m\u001b[1;33m)\u001b[0m\u001b[1;33m:\u001b[0m\u001b[1;33m\u001b[0m\u001b[0m\n\u001b[0;32m      3\u001b[0m         \u001b[0mprint\u001b[0m\u001b[1;33m(\u001b[0m\u001b[1;34m'i m awesomee'\u001b[0m\u001b[1;33m)\u001b[0m\u001b[1;33m\u001b[0m\u001b[0m\n\u001b[1;32m----> 4\u001b[1;33m         \u001b[0many_function\u001b[0m\u001b[1;33m(\u001b[0m\u001b[1;33m)\u001b[0m\u001b[1;33m\u001b[0m\u001b[0m\n\u001b[0m\u001b[0;32m      5\u001b[0m     \u001b[1;32mreturn\u001b[0m \u001b[0mwrapper_func\u001b[0m\u001b[1;33m\u001b[0m\u001b[0m\n\u001b[0;32m      6\u001b[0m \u001b[1;33m\u001b[0m\u001b[0m\n",
      "\u001b[1;31mTypeError\u001b[0m: func() missing 1 required positional argument: 'a'"
     ]
    }
   ],
   "source": [
    "def decorator_func(any_function):\n",
    "    def wrapper_func():\n",
    "        print('i m awesomee')\n",
    "        any_function()\n",
    "    return wrapper_func\n",
    "\n",
    "@decorator_func\n",
    "def func(a):\n",
    "    print(f'this is function with argument {a}')\n",
    "    \n",
    "func()    \n"
   ]
  },
  {
   "cell_type": "code",
   "execution_count": 20,
   "metadata": {},
   "outputs": [
    {
     "name": "stdout",
     "output_type": "stream",
     "text": [
      "i m awesomee\n",
      "this is function with argument 2\n"
     ]
    }
   ],
   "source": [
    "#*args and **kwargs will solve the issue :0 :)\n",
    "\n",
    "def decorator_func(any_function):\n",
    "    def wrapper_func(*args,**kwargs):\n",
    "        print('i m awesomee')\n",
    "        any_function(*args,**kwargs)\n",
    "    return wrapper_func\n",
    "\n",
    "def func(a):\n",
    "    print(f'this is function with argument {a}')\n",
    "    \n",
    "var=decorator_func(func)   # ab wrapper_func is same as var   \n",
    "var(2)\n"
   ]
  },
  {
   "cell_type": "code",
   "execution_count": 22,
   "metadata": {},
   "outputs": [
    {
     "name": "stdout",
     "output_type": "stream",
     "text": [
      "i m awesomee\n",
      "this is function with argument 2\n"
     ]
    }
   ],
   "source": [
    "#*args and **kwargs will solve the issue :0 :)\n",
    "\n",
    "def decorator_func(any_function):\n",
    "    def wrapper_func(*args,**kwargs):\n",
    "        print('i m awesomee')\n",
    "        any_function(*args,**kwargs)\n",
    "    return wrapper_func\n",
    "\n",
    "@decorator_func\n",
    "def func(a):\n",
    "    print(f'this is function with argument {a}')\n",
    "\n",
    "func(2)    "
   ]
  },
  {
   "cell_type": "code",
   "execution_count": 27,
   "metadata": {},
   "outputs": [
    {
     "name": "stdout",
     "output_type": "stream",
     "text": [
      "i m awesomee\n"
     ]
    }
   ],
   "source": [
    "\n",
    "def decorator_func(any_function):\n",
    "    def wrapper_func(*args,**kwargs):\n",
    "        print('i m awesomee')\n",
    "        any_function(*args,**kwargs)   #yaha func ko khali call krre hai,agar return krte tab na\n",
    "    return wrapper_func                 # 5 aata output me -_- nai smjha mai !\n",
    "\n",
    "@decorator_func\n",
    "def add_func(a,b):\n",
    "    return a+b\n",
    "\n",
    "add_func(2,3)  #isme 5 output nai aara \n",
    "               #abhi bhi humare decorator function me problem hai ! :( "
   ]
  },
  {
   "cell_type": "code",
   "execution_count": 28,
   "metadata": {},
   "outputs": [
    {
     "name": "stdout",
     "output_type": "stream",
     "text": [
      "i m awesomee\n"
     ]
    },
    {
     "data": {
      "text/plain": [
       "5"
      ]
     },
     "execution_count": 28,
     "metadata": {},
     "output_type": "execute_result"
    }
   ],
   "source": [
    "\n",
    "def decorator_func(any_function):\n",
    "    def wrapper_func(*args,**kwargs):\n",
    "        print('i m awesomee')\n",
    "        return any_function(*args,**kwargs)   \n",
    "    return wrapper_func                 \n",
    "\n",
    "@decorator_func\n",
    "def add_func(a,b):\n",
    "    return a+b\n",
    "\n",
    "add_func(2,3)\n",
    "\n",
    "#ab decorator function pura sahi hai !! \n",
    "#abhi bhi ek choti si problem hai ,we will see that in next video"
   ]
  },
  {
   "cell_type": "code",
   "execution_count": null,
   "metadata": {},
   "outputs": [],
   "source": []
  }
 ],
 "metadata": {
  "kernelspec": {
   "display_name": "Python 3",
   "language": "python",
   "name": "python3"
  },
  "language_info": {
   "codemirror_mode": {
    "name": "ipython",
    "version": 3
   },
   "file_extension": ".py",
   "mimetype": "text/x-python",
   "name": "python",
   "nbconvert_exporter": "python",
   "pygments_lexer": "ipython3",
   "version": "3.6.5"
  }
 },
 "nbformat": 4,
 "nbformat_minor": 2
}
