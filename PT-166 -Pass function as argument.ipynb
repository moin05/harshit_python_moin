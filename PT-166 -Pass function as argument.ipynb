{
 "cells": [
  {
   "cell_type": "code",
   "execution_count": 3,
   "metadata": {},
   "outputs": [
    {
     "name": "stdout",
     "output_type": "stream",
     "text": [
      "[1, 4, 9, 16, 25]\n"
     ]
    }
   ],
   "source": [
    "liss=[1,2,3,4,5]\n",
    "def squa(a):\n",
    "    return a**2\n",
    "print(list(map(squa,liss)))\n",
    "#map function ,khud ek function hai jo ek function leta hai as an argument ! :) "
   ]
  },
  {
   "cell_type": "code",
   "execution_count": 4,
   "metadata": {},
   "outputs": [],
   "source": [
    "#aaj apan aise function banaenge jo , koi function le as an argument :) "
   ]
  },
  {
   "cell_type": "code",
   "execution_count": 7,
   "metadata": {},
   "outputs": [
    {
     "data": {
      "text/plain": [
       "[1, 4, 9, 16]"
      ]
     },
     "execution_count": 7,
     "metadata": {},
     "output_type": "execute_result"
    }
   ],
   "source": [
    "liss=[1,2,3,4]\n",
    "\n",
    "def squa(a):\n",
    "    return a**2\n",
    "\n",
    "def my_map(func,l):\n",
    "    new_list=[]\n",
    "    for i in l:\n",
    "        new_list.append(func(i))\n",
    "    return new_list    \n",
    "\n",
    "#def my_map(func,l):                           #using list comprehension\n",
    "#    new_list=[func(i) for i in l]\n",
    "#    return new_list    \n",
    "\n",
    "#def my_map(func,l):                           #using list comprehension\n",
    "#    return [func(i) for i in l]    \n",
    "\n",
    "\n",
    "my_map(squa,liss)"
   ]
  },
  {
   "cell_type": "code",
   "execution_count": 8,
   "metadata": {},
   "outputs": [
    {
     "data": {
      "text/plain": [
       "[1, 4, 9, 16]"
      ]
     },
     "execution_count": 8,
     "metadata": {},
     "output_type": "execute_result"
    }
   ],
   "source": [
    "my_map(lambda x:x**2,liss)"
   ]
  }
 ],
 "metadata": {
  "kernelspec": {
   "display_name": "Python 3",
   "language": "python",
   "name": "python3"
  },
  "language_info": {
   "codemirror_mode": {
    "name": "ipython",
    "version": 3
   },
   "file_extension": ".py",
   "mimetype": "text/x-python",
   "name": "python",
   "nbconvert_exporter": "python",
   "pygments_lexer": "ipython3",
   "version": "3.6.5"
  }
 },
 "nbformat": 4,
 "nbformat_minor": 2
}
