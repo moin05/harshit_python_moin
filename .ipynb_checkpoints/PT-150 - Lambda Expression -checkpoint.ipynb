{
 "cells": [
  {
   "cell_type": "code",
   "execution_count": 1,
   "metadata": {},
   "outputs": [
    {
     "name": "stdout",
     "output_type": "stream",
     "text": [
      "5\n"
     ]
    }
   ],
   "source": [
    "#lambda expression (anonymous function)\n",
    "\n",
    "def add(a,b):\n",
    "    return a+b\n",
    "\n",
    "#lambda a,b : a+b \n",
    "add2 = lambda a,b : a+b \n",
    "#           ^^^^    ^^^\n",
    "#           Kya lega Kya return karege\n",
    "\n",
    "print(add2(2,3))"
   ]
  },
  {
   "cell_type": "code",
   "execution_count": 2,
   "metadata": {},
   "outputs": [],
   "source": [
    "#built in , map , reduce , filter"
   ]
  },
  {
   "cell_type": "code",
   "execution_count": 4,
   "metadata": {},
   "outputs": [
    {
     "name": "stdout",
     "output_type": "stream",
     "text": [
      "6\n"
     ]
    }
   ],
   "source": [
    "multiply = lambda a,b:a*b\n",
    "print(multiply(2,3))\n",
    "\n",
    "#lambda function ka koi naam nai hota \n",
    "#multiply = lambda a,b:a*b --> in this case , multiply is the name of \n",
    "#what the function returns :)"
   ]
  },
  {
   "cell_type": "code",
   "execution_count": 5,
   "metadata": {},
   "outputs": [
    {
     "name": "stdout",
     "output_type": "stream",
     "text": [
      "<function add at 0x000000E6EB56F840>\n",
      "<function <lambda> at 0x000000E6EB56F730>\n"
     ]
    }
   ],
   "source": [
    "print(add)\n",
    "print(add2) #lambda func ka koi naam nai hota"
   ]
  },
  {
   "cell_type": "code",
   "execution_count": null,
   "metadata": {},
   "outputs": [],
   "source": []
  }
 ],
 "metadata": {
  "kernelspec": {
   "display_name": "Python 3",
   "language": "python",
   "name": "python3"
  },
  "language_info": {
   "codemirror_mode": {
    "name": "ipython",
    "version": 3
   },
   "file_extension": ".py",
   "mimetype": "text/x-python",
   "name": "python",
   "nbconvert_exporter": "python",
   "pygments_lexer": "ipython3",
   "version": "3.6.5"
  }
 },
 "nbformat": 4,
 "nbformat_minor": 2
}
