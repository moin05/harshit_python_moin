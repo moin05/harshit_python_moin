{
 "cells": [
  {
   "cell_type": "code",
   "execution_count": 2,
   "metadata": {},
   "outputs": [
    {
     "name": "stdout",
     "output_type": "stream",
     "text": [
      "<zip object at 0x0000002AB3B93D88>\n"
     ]
    }
   ],
   "source": [
    "#zip function \n",
    "user_id=['user1','usser2','user3']\n",
    "names=['harshit','mohit','rohit']\n",
    "\n",
    "# user1 ka naam hai harshit\n",
    "# user2 ka naam hai mohit\n",
    "# user3 ka naam hai rohit\n",
    "\n",
    "#zip function , zip object dega \n",
    "# ('usser1','harshit'),('user2','mohit'),('user3','rohit')\n",
    "\n",
    "print(zip(user_id,names))"
   ]
  },
  {
   "cell_type": "code",
   "execution_count": 4,
   "metadata": {},
   "outputs": [
    {
     "name": "stdout",
     "output_type": "stream",
     "text": [
      "[('user1', 'harshit'), ('usser2', 'mohit'), ('user3', 'rohit')]\n"
     ]
    }
   ],
   "source": [
    "print(list(zip(user_id,names)))"
   ]
  },
  {
   "cell_type": "code",
   "execution_count": 5,
   "metadata": {},
   "outputs": [
    {
     "name": "stdout",
     "output_type": "stream",
     "text": [
      "(('user1', 'harshit'), ('usser2', 'mohit'), ('user3', 'rohit'))\n"
     ]
    }
   ],
   "source": [
    "print(tuple(zip(user_id,names)))"
   ]
  },
  {
   "cell_type": "code",
   "execution_count": 7,
   "metadata": {},
   "outputs": [
    {
     "name": "stdout",
     "output_type": "stream",
     "text": [
      "[('user1', 'harshit'), ('usser2', 'mohit')]\n"
     ]
    }
   ],
   "source": [
    "user_id=['user1','usser2']\n",
    "names=['harshit','mohit','rohit']\n",
    "print(list(zip(user_id,names)))\n",
    "#user_id me kam elements hai ! \n",
    "#jisme kam elements honge,uske hisaab se zipping hogi !"
   ]
  },
  {
   "cell_type": "code",
   "execution_count": 9,
   "metadata": {},
   "outputs": [
    {
     "name": "stdout",
     "output_type": "stream",
     "text": [
      "{'a': 1, 'b': 2}\n"
     ]
    }
   ],
   "source": [
    "example=[('a',1),('b',2)]\n",
    "print(dict(example))\n",
    "#wow !"
   ]
  },
  {
   "cell_type": "code",
   "execution_count": 10,
   "metadata": {},
   "outputs": [
    {
     "name": "stdout",
     "output_type": "stream",
     "text": [
      "[('user1', 'harshit', 'vashistha'), ('usser2', 'mohit', 'vashistha'), ('user3', 'rohit', 'sharma')]\n"
     ]
    }
   ],
   "source": [
    "user_id=['user1','usser2','user3']\n",
    "names=['harshit','mohit','rohit']\n",
    "last_names=['vashistha','vashistha','sharma']\n",
    "print(list(zip(user_id,names,last_names)))\n",
    "#Do se zyada list ko bhi zip karr skte hai !"
   ]
  },
  {
   "cell_type": "code",
   "execution_count": 11,
   "metadata": {},
   "outputs": [
    {
     "ename": "ValueError",
     "evalue": "dictionary update sequence element #0 has length 3; 2 is required",
     "output_type": "error",
     "traceback": [
      "\u001b[1;31m---------------------------------------------------------------------------\u001b[0m",
      "\u001b[1;31mValueError\u001b[0m                                Traceback (most recent call last)",
      "\u001b[1;32m<ipython-input-11-309d72b7e8d3>\u001b[0m in \u001b[0;36m<module>\u001b[1;34m()\u001b[0m\n\u001b[0;32m      2\u001b[0m \u001b[0mnames\u001b[0m\u001b[1;33m=\u001b[0m\u001b[1;33m[\u001b[0m\u001b[1;34m'harshit'\u001b[0m\u001b[1;33m,\u001b[0m\u001b[1;34m'mohit'\u001b[0m\u001b[1;33m,\u001b[0m\u001b[1;34m'rohit'\u001b[0m\u001b[1;33m]\u001b[0m\u001b[1;33m\u001b[0m\u001b[0m\n\u001b[0;32m      3\u001b[0m \u001b[0mlast_names\u001b[0m\u001b[1;33m=\u001b[0m\u001b[1;33m[\u001b[0m\u001b[1;34m'vashistha'\u001b[0m\u001b[1;33m,\u001b[0m\u001b[1;34m'vashistha'\u001b[0m\u001b[1;33m,\u001b[0m\u001b[1;34m'sharma'\u001b[0m\u001b[1;33m]\u001b[0m\u001b[1;33m\u001b[0m\u001b[0m\n\u001b[1;32m----> 4\u001b[1;33m \u001b[0mprint\u001b[0m\u001b[1;33m(\u001b[0m\u001b[0mdict\u001b[0m\u001b[1;33m(\u001b[0m\u001b[0mzip\u001b[0m\u001b[1;33m(\u001b[0m\u001b[0muser_id\u001b[0m\u001b[1;33m,\u001b[0m\u001b[0mnames\u001b[0m\u001b[1;33m,\u001b[0m\u001b[0mlast_names\u001b[0m\u001b[1;33m)\u001b[0m\u001b[1;33m)\u001b[0m\u001b[1;33m)\u001b[0m\u001b[1;33m\u001b[0m\u001b[0m\n\u001b[0m\u001b[0;32m      5\u001b[0m \u001b[1;31m#Do se zyada list ko bhi zip karr skte hai !\u001b[0m\u001b[1;33m\u001b[0m\u001b[1;33m\u001b[0m\u001b[0m\n",
      "\u001b[1;31mValueError\u001b[0m: dictionary update sequence element #0 has length 3; 2 is required"
     ]
    }
   ],
   "source": [
    "user_id=['user1','usser2','user3']\n",
    "names=['harshit','mohit','rohit']\n",
    "last_names=['vashistha','vashistha','sharma']\n",
    "print(dict(zip(user_id,names,last_names)))\n",
    "#Do se zyada list ko apan dict me zip nai karr skte hai !"
   ]
  }
 ],
 "metadata": {
  "kernelspec": {
   "display_name": "Python 3",
   "language": "python",
   "name": "python3"
  },
  "language_info": {
   "codemirror_mode": {
    "name": "ipython",
    "version": 3
   },
   "file_extension": ".py",
   "mimetype": "text/x-python",
   "name": "python",
   "nbconvert_exporter": "python",
   "pygments_lexer": "ipython3",
   "version": "3.6.5"
  }
 },
 "nbformat": 4,
 "nbformat_minor": 2
}
