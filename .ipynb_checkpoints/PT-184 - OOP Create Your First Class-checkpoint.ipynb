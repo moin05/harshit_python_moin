{
 "cells": [
  {
   "cell_type": "code",
   "execution_count": 5,
   "metadata": {},
   "outputs": [],
   "source": [
    "# What is a class\n",
    "# How to create a class\n",
    "# What is init method   # Also called constructor\n",
    "# What are attributes , instance variables\n",
    "# How to create our object "
   ]
  },
  {
   "cell_type": "code",
   "execution_count": 9,
   "metadata": {},
   "outputs": [],
   "source": [
    "# Class se hum deceide krte hai ki \n",
    "# humara aane wala object kaisa hoga\n",
    "# humara aane wala object ki kya kya functionalities hongi \n",
    "# humara aane wala object ke kya kya attributes honge "
   ]
  },
  {
   "cell_type": "code",
   "execution_count": 8,
   "metadata": {},
   "outputs": [],
   "source": [
    "#class Person:   # First letter of class ka naam shud be capital(convention)\n",
    "                # Jo already defined classes hoti unka naam ka first letter\n",
    "                # is small \n",
    "    \n",
    "# class me jo bhi function define krte hai usko bolte hai 'method'    "
   ]
  },
  {
   "cell_type": "code",
   "execution_count": 12,
   "metadata": {},
   "outputs": [],
   "source": [
    "class Person:\n",
    "    def __init__(self,first_name,last_name,age): #def __init__(self,attributes)\n",
    "    #instance variables\n",
    "        self.first_name=first_name\n",
    "        self.last_name=last_name\n",
    "        self.age=age\n",
    "    \n",
    "# Bangyi apni class   \n",
    "# Humne define krr diya ki humara aane wala object kaisa hoga"
   ]
  },
  {
   "cell_type": "code",
   "execution_count": 13,
   "metadata": {},
   "outputs": [],
   "source": [
    "p1= Person('Harshit','Vashishth',24)\n",
    "p2 =Person('moin','raw', 19)\n",
    "# p1 and p2 are objects of class Person\n",
    "# Jaise hi mai object create karunga waise init method call hoga\n",
    "# Self represent krta hai object ko \n",
    "# jab maine p1 naam ka object banaya toh p1 khud self hai :)\n",
    "# p1 ke pass kya kya hai , uska first name ,last name aur age \n"
   ]
  },
  {
   "cell_type": "code",
   "execution_count": 16,
   "metadata": {},
   "outputs": [
    {
     "name": "stdout",
     "output_type": "stream",
     "text": [
      "Harshit\n",
      "moin\n"
     ]
    }
   ],
   "source": [
    "print(p1.first_name)\n",
    "print(p2.first_name)"
   ]
  },
  {
   "cell_type": "code",
   "execution_count": 18,
   "metadata": {},
   "outputs": [
    {
     "name": "stdout",
     "output_type": "stream",
     "text": [
      "Shakalaka boom boom boom boom Shakalaka boom boom ayioo\n",
      "Shakalaka boom boom boom boom Shakalaka boom boom ayioo\n"
     ]
    }
   ],
   "source": [
    "# Proving that object create krte tym init call hota\n",
    "class Person:\n",
    "    def __init__(self,first_name,last_name,age): \n",
    "    #instance variables\n",
    "        print('Shakalaka boom boom boom boom Shakalaka boom boom ayioo')\n",
    "        self.first_name=first_name\n",
    "        self.last_name=last_name\n",
    "        self.age=age\n",
    "        \n",
    "p1= Person('Harshit','Vashishth',24)\n",
    "p2 =Person('moin','raw', 19)\n",
    "\n",
    "# yeh dekho init call hua :) :) :) "
   ]
  },
  {
   "cell_type": "code",
   "execution_count": null,
   "metadata": {},
   "outputs": [],
   "source": []
  }
 ],
 "metadata": {
  "kernelspec": {
   "display_name": "Python 2",
   "language": "python",
   "name": "python2"
  },
  "language_info": {
   "codemirror_mode": {
    "name": "ipython",
    "version": 2
   },
   "file_extension": ".py",
   "mimetype": "text/x-python",
   "name": "python",
   "nbconvert_exporter": "python",
   "pygments_lexer": "ipython2",
   "version": "2.7.16"
  },
  "widgets": {
   "state": {},
   "version": "1.1.2"
  }
 },
 "nbformat": 4,
 "nbformat_minor": 2
}
