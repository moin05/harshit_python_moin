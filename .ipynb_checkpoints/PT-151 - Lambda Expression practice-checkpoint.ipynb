{
 "cells": [
  {
   "cell_type": "code",
   "execution_count": 4,
   "metadata": {},
   "outputs": [
    {
     "name": "stdout",
     "output_type": "stream",
     "text": [
      "True\n"
     ]
    }
   ],
   "source": [
    "#Lambda expression practice \n",
    "\n",
    "#def is_even(a):\n",
    "#    if a%2==0:\n",
    "#        return True\n",
    "#    else:\n",
    "#        return False\n",
    "\n",
    "#def is_even(a):\n",
    "#    if a%2==0:\n",
    "#        return True\n",
    "#    return False\n",
    "\n",
    "def is_even(a):\n",
    "    return a%2==0\n",
    "    \n",
    "print(is_even(4))\n",
    "\n",
    "#ab yehi kaam lambda expression se karo "
   ]
  },
  {
   "cell_type": "code",
   "execution_count": 8,
   "metadata": {},
   "outputs": [
    {
     "name": "stdout",
     "output_type": "stream",
     "text": [
      "True\n",
      "False\n"
     ]
    }
   ],
   "source": [
    "is_even2=lambda a : a%2==0\n",
    "\n",
    "print(is_even2(2))\n",
    "print(is_even2(19))"
   ]
  },
  {
   "cell_type": "code",
   "execution_count": 10,
   "metadata": {},
   "outputs": [
    {
     "name": "stdout",
     "output_type": "stream",
     "text": [
      "n\n"
     ]
    }
   ],
   "source": [
    "def last_char(s):\n",
    "    return s[-1]\n",
    "\n",
    "print(last_char('Moin'))\n",
    "#isko lambda exp use krke karo "
   ]
  },
  {
   "cell_type": "code",
   "execution_count": 11,
   "metadata": {},
   "outputs": [
    {
     "name": "stdout",
     "output_type": "stream",
     "text": [
      "n\n"
     ]
    }
   ],
   "source": [
    "JoCheezReturnHoriUskaNaam= lambda s : s[-1]\n",
    "\n",
    "print(JoCheezReturnHoriUskaNaam('Moinnn'))"
   ]
  },
  {
   "cell_type": "code",
   "execution_count": 14,
   "metadata": {},
   "outputs": [],
   "source": [
    "# lambda with if else \n",
    "\n",
    "#def func(s):\n",
    "#    if len(s)>5:\n",
    "#        return True\n",
    "#    else:\n",
    "#        return False\n",
    "\n",
    "def func(s):\n",
    "    return len(s)>5\n",
    "#isko lambda func se banao        \n",
    "    "
   ]
  },
  {
   "cell_type": "code",
   "execution_count": 18,
   "metadata": {},
   "outputs": [
    {
     "name": "stdout",
     "output_type": "stream",
     "text": [
      "False\n",
      "True\n"
     ]
    }
   ],
   "source": [
    "funccc=lambda s: True if len(s)>5 else False\n",
    "print(funccc('abc'))\n",
    "print(funccc('abckjhgfdxfghj'))\n",
    "#isko bina if else ke karo ek baar"
   ]
  },
  {
   "cell_type": "code",
   "execution_count": 19,
   "metadata": {},
   "outputs": [
    {
     "name": "stdout",
     "output_type": "stream",
     "text": [
      "False\n",
      "True\n"
     ]
    }
   ],
   "source": [
    "#shorter method \n",
    "funccc=lambda s: len(s)>5 \n",
    "print(funccc('abc'))\n",
    "print(funccc('abckjhgfdxfghj'))\n",
    "#isko bina if else ke karo ek baar"
   ]
  },
  {
   "cell_type": "code",
   "execution_count": null,
   "metadata": {},
   "outputs": [],
   "source": []
  }
 ],
 "metadata": {
  "kernelspec": {
   "display_name": "Python 3",
   "language": "python",
   "name": "python3"
  },
  "language_info": {
   "codemirror_mode": {
    "name": "ipython",
    "version": 3
   },
   "file_extension": ".py",
   "mimetype": "text/x-python",
   "name": "python",
   "nbconvert_exporter": "python",
   "pygments_lexer": "ipython3",
   "version": "3.6.5"
  }
 },
 "nbformat": 4,
 "nbformat_minor": 2
}
