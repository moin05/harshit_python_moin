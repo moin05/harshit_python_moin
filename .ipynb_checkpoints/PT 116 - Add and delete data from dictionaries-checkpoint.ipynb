{
 "cells": [
  {
   "cell_type": "code",
   "execution_count": 14,
   "metadata": {},
   "outputs": [],
   "source": [
    "#add and delete data\n",
    "user_info={\n",
    "    'name':'harshit',\n",
    "    'age':24,\n",
    "    'fav_movies':['coco' ,'kimi no na wa'],\n",
    "    'fav_tunes':['awakening','fairy tale']\n",
    "}"
   ]
  },
  {
   "cell_type": "code",
   "execution_count": 15,
   "metadata": {},
   "outputs": [
    {
     "name": "stdout",
     "output_type": "stream",
     "text": [
      "{'name': 'harshit', 'age': 24, 'fav_movies': ['coco', 'kimi no na wa'], 'fav_tunes': ['awakening', 'fairy tale'], 'fav_songs': ['song1', 'song2']}\n"
     ]
    }
   ],
   "source": [
    "#how to add data\n",
    "user_info['fav_songs']=['song1','song2']\n",
    "print(user_info)\n",
    "#dict ka naam phir sq bracket me key phir = krke uski value"
   ]
  },
  {
   "cell_type": "code",
   "execution_count": 16,
   "metadata": {},
   "outputs": [
    {
     "name": "stdout",
     "output_type": "stream",
     "text": [
      "['awakening', 'fairy tale']\n",
      "{'name': 'harshit', 'age': 24, 'fav_movies': ['coco', 'kimi no na wa'], 'fav_songs': ['song1', 'song2']}\n",
      "<class 'list'>\n"
     ]
    }
   ],
   "source": [
    "#pop method --> kisi key value pair ko delete krne ke liye \n",
    "#user_info.pop('fav_tunes')---> jo bhi fav_tunes ki vale hai usko return\n",
    "#karega yeh  \n",
    "popped_item=user_info.pop('fav_tunes')\n",
    "print(popped_item)\n",
    "print(user_info)\n",
    "print(type(popped_item))\n",
    "#fav tunes me value was in the form of list toh type will be list\n",
    "#agar age ko pop kiye hote toh type INT hota ;p"
   ]
  },
  {
   "cell_type": "code",
   "execution_count": 17,
   "metadata": {},
   "outputs": [
    {
     "ename": "TypeError",
     "evalue": "pop expected at least 1 arguments, got 0",
     "output_type": "error",
     "traceback": [
      "\u001b[1;31m---------------------------------------------------------------------------\u001b[0m",
      "\u001b[1;31mTypeError\u001b[0m                                 Traceback (most recent call last)",
      "\u001b[1;32m<ipython-input-17-9a5d01fad38f>\u001b[0m in \u001b[0;36m<module>\u001b[1;34m()\u001b[0m\n\u001b[1;32m----> 1\u001b[1;33m \u001b[0muser_info\u001b[0m\u001b[1;33m.\u001b[0m\u001b[0mpop\u001b[0m\u001b[1;33m(\u001b[0m\u001b[1;33m)\u001b[0m\u001b[1;33m\u001b[0m\u001b[0m\n\u001b[0m\u001b[0;32m      2\u001b[0m \u001b[1;31m#.pop ke ander kuch na kuch pass krana padega wrna\u001b[0m\u001b[1;33m\u001b[0m\u001b[1;33m\u001b[0m\u001b[0m\n\u001b[0;32m      3\u001b[0m \u001b[1;31m#error ayega\u001b[0m\u001b[1;33m\u001b[0m\u001b[1;33m\u001b[0m\u001b[0m\n",
      "\u001b[1;31mTypeError\u001b[0m: pop expected at least 1 arguments, got 0"
     ]
    }
   ],
   "source": [
    "user_info.pop()\n",
    "#.pop ke ander kuch na kuch pass krana padega wrna \n",
    "#error ayega"
   ]
  },
  {
   "cell_type": "code",
   "execution_count": 18,
   "metadata": {},
   "outputs": [
    {
     "name": "stdout",
     "output_type": "stream",
     "text": [
      "{'name': 'harshit', 'age': 24, 'fav_movies': ['coco', 'kimi no na wa']}\n",
      "('fav_songs', ['song1', 'song2'])\n",
      "<class 'tuple'>\n"
     ]
    }
   ],
   "source": [
    "#popitem method ---> yeh apne aap koi bhi key value pair delete krdega\n",
    "#return krege tuple ke form me\n",
    "popped_item=user_info.popitem() \n",
    "print(user_info)\n",
    "print(popped_item)\n",
    "print(type(popped_item))"
   ]
  },
  {
   "cell_type": "code",
   "execution_count": null,
   "metadata": {},
   "outputs": [],
   "source": []
  }
 ],
 "metadata": {
  "kernelspec": {
   "display_name": "Python 3",
   "language": "python",
   "name": "python3"
  },
  "language_info": {
   "codemirror_mode": {
    "name": "ipython",
    "version": 3
   },
   "file_extension": ".py",
   "mimetype": "text/x-python",
   "name": "python",
   "nbconvert_exporter": "python",
   "pygments_lexer": "ipython3",
   "version": "3.6.5"
  }
 },
 "nbformat": 4,
 "nbformat_minor": 2
}
