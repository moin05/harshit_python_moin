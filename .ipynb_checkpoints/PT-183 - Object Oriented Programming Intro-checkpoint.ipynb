{
 "cells": [
  {
   "cell_type": "code",
   "execution_count": 1,
   "metadata": {},
   "outputs": [],
   "source": [
    "# Object oriented programming\n",
    "# Concept is same in different programming languages like C++ java python,\n",
    "# syntax is different\n",
    "\n",
    "# OOP is just a style/way of writing a code \n",
    "# Very helpful in creating real world programs\n",
    "# We will see other advantages when we start learning oop \n",
    "# Bsic terms --> class , object(instance) , method "
   ]
  },
  {
   "cell_type": "code",
   "execution_count": 11,
   "metadata": {},
   "outputs": [],
   "source": [
    "# List class\n",
    "# list object \n",
    "# Method \n",
    "l1 = [1,2,3] #l1 is an object of list class \n",
    "l2 = [4,5,6] #l2 is also an object of list class \n",
    "l3 = ['moin','raw'] #l3 is also an object of list class\n",
    "l1.append(4)\n",
    "# Class is a blue print \n",
    "# Class me hum yeh deceide krte hai ki humara aane wala object kaisa hoga \n",
    "# List class me yeh decided hai ki humari list me square bracket hoga \n",
    "# Class me bahut saare function define krte hai apan ,unn functions ko \n",
    "# bolte hai method . for example append\n",
    "# Python me every thing is an object \n",
    "# Agar tum tuple use krre ho,toh pehle se tuple ki class bani hui hai\n",
    "# Agar tum list use krre ho ,toh pehle se list ki class bani hui hai \n",
    "# Agar tum string use krre ho,toh pehle se string ki class bani hui hai\n"
   ]
  },
  {
   "cell_type": "code",
   "execution_count": 13,
   "metadata": {},
   "outputs": [],
   "source": [
    "# Hum khud se kaise class aur uska object bana skte woh aage dekhenge :)  "
   ]
  },
  {
   "cell_type": "code",
   "execution_count": null,
   "metadata": {},
   "outputs": [],
   "source": []
  }
 ],
 "metadata": {
  "kernelspec": {
   "display_name": "Python 2",
   "language": "python",
   "name": "python2"
  },
  "language_info": {
   "codemirror_mode": {
    "name": "ipython",
    "version": 2
   },
   "file_extension": ".py",
   "mimetype": "text/x-python",
   "name": "python",
   "nbconvert_exporter": "python",
   "pygments_lexer": "ipython2",
   "version": "2.7.16"
  },
  "widgets": {
   "state": {},
   "version": "1.1.2"
  }
 },
 "nbformat": 4,
 "nbformat_minor": 2
}
