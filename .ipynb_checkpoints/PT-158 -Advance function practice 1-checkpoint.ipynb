{
 "cells": [
  {
   "cell_type": "code",
   "execution_count": null,
   "metadata": {},
   "outputs": [],
   "source": [
    "#This is a challenge \n",
    "\n",
    "#define a function that can take any number of lists containing numbers\n",
    "#[1,2,3] , [4,5,6] , [7,8,9]\n",
    "#return average \n",
    "#(1+4+7)/3,(2+5+8)/3,(3+6+9)/3\n",
    "\n",
    "# try to make this anonymous function in one line using lambda "
   ]
  },
  {
   "cell_type": "code",
   "execution_count": 12,
   "metadata": {},
   "outputs": [
    {
     "data": {
      "text/plain": [
       "[2.5, 3.5, 4.5]"
      ]
     },
     "execution_count": 12,
     "metadata": {},
     "output_type": "execute_result"
    }
   ],
   "source": [
    "#For two lists\n",
    "l1=[1,2,3]\n",
    "l2=[4,5,6]\n",
    "def average_finder(l1,l2):\n",
    "    average=[]\n",
    "    for pair in zip(l1,l2):\n",
    "        average.append(sum(pair)/len(pair))\n",
    "    return average    \n",
    "print(average_finder(l1,l2))"
   ]
  },
  {
   "cell_type": "code",
   "execution_count": 13,
   "metadata": {},
   "outputs": [
    {
     "name": "stdout",
     "output_type": "stream",
     "text": [
      "[4.0, 5.0, 6.0]\n"
     ]
    }
   ],
   "source": [
    "#For any number of lists \n",
    "l1=[1,2,3]\n",
    "l2=[4,5,6]\n",
    "l3=[7,8,9]\n",
    "def average_finder(*args): #args= ([],[],[])\n",
    "    average=[]\n",
    "    for pair in zip(*args):  #* lagaye for unpacking [] [] []\n",
    "        average.append(sum(pair)/len(pair))\n",
    "    return average    \n",
    "print(average_finder(l1,l2,l3))"
   ]
  },
  {
   "cell_type": "code",
   "execution_count": 15,
   "metadata": {},
   "outputs": [
    {
     "name": "stdout",
     "output_type": "stream",
     "text": [
      "[4.0, 5.0, 6.0]\n"
     ]
    }
   ],
   "source": [
    "#For any number of lists ,in ONE line\n",
    "l1=[1,2,3]\n",
    "l2=[4,5,6]\n",
    "l3=[7,8,9]\n",
    "\n",
    "average_finder=lambda *args:[sum(pair)/len(pair) for pair in zip(*args)]\n",
    "\n",
    "print(average_finder(l1,l2,l3))"
   ]
  }
 ],
 "metadata": {
  "kernelspec": {
   "display_name": "Python 3",
   "language": "python",
   "name": "python3"
  },
  "language_info": {
   "codemirror_mode": {
    "name": "ipython",
    "version": 3
   },
   "file_extension": ".py",
   "mimetype": "text/x-python",
   "name": "python",
   "nbconvert_exporter": "python",
   "pygments_lexer": "ipython3",
   "version": "3.6.5"
  }
 },
 "nbformat": 4,
 "nbformat_minor": 2
}
