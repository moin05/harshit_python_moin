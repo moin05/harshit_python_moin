{
 "cells": [
  {
   "cell_type": "code",
   "execution_count": 3,
   "metadata": {},
   "outputs": [
    {
     "name": "stdout",
     "output_type": "stream",
     "text": [
      "9\n",
      "1\n"
     ]
    }
   ],
   "source": [
    "#advance min() and max() function \n",
    "\n",
    "numbers= [1,2,3,4,5,6,7,8,9]\n",
    "\n",
    "print(max(numbers))\n",
    "print(min(numbers))"
   ]
  },
  {
   "cell_type": "code",
   "execution_count": 20,
   "metadata": {},
   "outputs": [],
   "source": [
    "#we have to calculate ki sabse zyada length kis string ki hai\n",
    "names = ['harshit','mohit','ab']"
   ]
  },
  {
   "cell_type": "code",
   "execution_count": 24,
   "metadata": {},
   "outputs": [
    {
     "name": "stdout",
     "output_type": "stream",
     "text": [
      "mohit\n"
     ]
    }
   ],
   "source": [
    "print(max(names))  #-_- hume length ke basis pe max nikaalna hai\n",
    "#abhi pata nai kis basis pe mohit max bata ra hai -_\n",
    "\n",
    "#print(max(names , key = ))\n",
    "#                       ^^^ key me hum ek function pass karenge jo bataega ki kis basis pe\n",
    "#                            maximum find out krna hai :0"
   ]
  },
  {
   "cell_type": "code",
   "execution_count": 28,
   "metadata": {},
   "outputs": [
    {
     "name": "stdout",
     "output_type": "stream",
     "text": [
      "harshit\n",
      "ab\n"
     ]
    }
   ],
   "source": [
    "def func(item):\n",
    "    return len(item)\n",
    "    \n",
    "print(max(names, key = func ))\n",
    "print(min(names, key = func ))"
   ]
  },
  {
   "cell_type": "code",
   "execution_count": 31,
   "metadata": {},
   "outputs": [
    {
     "name": "stdout",
     "output_type": "stream",
     "text": [
      "harshit\n",
      "ab\n"
     ]
    }
   ],
   "source": [
    "#using lambda function\n",
    "print(max(names, key = lambda item:len(item)))\n",
    "print(min(names, key = lambda item:len(item)))"
   ]
  },
  {
   "cell_type": "code",
   "execution_count": 45,
   "metadata": {},
   "outputs": [
    {
     "name": "stdout",
     "output_type": "stream",
     "text": [
      "{'name': 'harshit', 'score': 90, 'age': 20}\n",
      "harshit\n",
      "rohit\n"
     ]
    }
   ],
   "source": [
    "students_2=[\n",
    "    {'name':'harshit','score':90,'age':20},\n",
    "    {'name':'mohit','score':75,'age':19},\n",
    "    {'name':'rohit','score':76,'age':23}\n",
    "]\n",
    "\n",
    "print(max(students_2 ,key=lambda item:item.get('score'))) #jiska max score hoga uski puri dict \n",
    "                                                  #print hori hai\n",
    "print(max(students_2 ,key=lambda item:item.get('score'))['name']) #ab khali name print hoga\n",
    "                                                                 #jiska score max hai uska\n",
    "print(max(students_2 ,key=lambda item:item.get('age'))['name'])    "
   ]
  },
  {
   "cell_type": "code",
   "execution_count": 50,
   "metadata": {},
   "outputs": [
    {
     "name": "stdout",
     "output_type": "stream",
     "text": [
      "harshit\n",
      "rohit\n"
     ]
    }
   ],
   "source": [
    "students_1={\n",
    "    'harshit':{'score':90,'age':20},\n",
    "    'mohit':{'score':75,'age':19},\n",
    "    'rohit':{'score':76,'age':23}\n",
    "}\n",
    "\n",
    "print(max(students_1,key= lambda item:students_1[item]['score']))\n",
    "\n",
    "print(max(students_1,key= lambda item:students_1[item]['age']))"
   ]
  }
 ],
 "metadata": {
  "kernelspec": {
   "display_name": "Python 3",
   "language": "python",
   "name": "python3"
  },
  "language_info": {
   "codemirror_mode": {
    "name": "ipython",
    "version": 3
   },
   "file_extension": ".py",
   "mimetype": "text/x-python",
   "name": "python",
   "nbconvert_exporter": "python",
   "pygments_lexer": "ipython3",
   "version": "3.6.5"
  }
 },
 "nbformat": 4,
 "nbformat_minor": 2
}
