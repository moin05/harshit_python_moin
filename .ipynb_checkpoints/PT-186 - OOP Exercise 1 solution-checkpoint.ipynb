{
 "cells": [
  {
   "cell_type": "code",
   "execution_count": 2,
   "metadata": {},
   "outputs": [],
   "source": [
    "class Laptop:\n",
    "    def __init__(self,brand,model,price):\n",
    "        self.brand_ka_naam = brand\n",
    "        self.model_ka_naam = model\n",
    "        self.kitna_price = price\n",
    "        \n",
    "# Ek cheez\n",
    "# init me teen attribute hai , func ke ander teen instance variable hai\n",
    "# Humesha zaroori nai ki dono barabar ho \n",
    "# Zyada instances bhi ho skte hai "
   ]
  },
  {
   "cell_type": "code",
   "execution_count": 6,
   "metadata": {},
   "outputs": [],
   "source": [
    "lap1=Laptop('dell','Ak47',40000)\n",
    "lap2=Laptop('asus','Ak50',50000)\n"
   ]
  },
  {
   "cell_type": "code",
   "execution_count": 10,
   "metadata": {},
   "outputs": [
    {
     "name": "stdout",
     "output_type": "stream",
     "text": [
      "dell\n",
      "40000\n",
      "asus\n"
     ]
    }
   ],
   "source": [
    "print(lap1.brand_ka_naam)\n",
    "print(lap1.kitna_price)\n",
    "print(lap2.brand_ka_naam)"
   ]
  },
  {
   "cell_type": "code",
   "execution_count": 15,
   "metadata": {},
   "outputs": [
    {
     "name": "stdout",
     "output_type": "stream",
     "text": [
      "lenovo ak47\n"
     ]
    }
   ],
   "source": [
    "class Laptoppp:\n",
    "    def __init__(self,brand,model,price):\n",
    "        self.brand_ka_naam = brand\n",
    "        self.model_ka_naam = model\n",
    "        self.kitna_price = price\n",
    "        self.laptop_name = brand +' ' +model\n",
    "# Ek cheez\n",
    "# init me teen attribute hai , func ke ander teen instance variable hai\n",
    "# Humesha zaroori nai ki dono barabar ho \n",
    "# Zyada instances bhi ho skte hai \n",
    "l1 = Laptoppp('lenovo','ak47',2000)\n",
    "print(l1.laptop_name)"
   ]
  },
  {
   "cell_type": "code",
   "execution_count": null,
   "metadata": {},
   "outputs": [],
   "source": []
  }
 ],
 "metadata": {
  "kernelspec": {
   "display_name": "Python 2",
   "language": "python",
   "name": "python2"
  },
  "language_info": {
   "codemirror_mode": {
    "name": "ipython",
    "version": 2
   },
   "file_extension": ".py",
   "mimetype": "text/x-python",
   "name": "python",
   "nbconvert_exporter": "python",
   "pygments_lexer": "ipython2",
   "version": "2.7.16"
  },
  "widgets": {
   "state": {},
   "version": "1.1.2"
  }
 },
 "nbformat": 4,
 "nbformat_minor": 2
}
