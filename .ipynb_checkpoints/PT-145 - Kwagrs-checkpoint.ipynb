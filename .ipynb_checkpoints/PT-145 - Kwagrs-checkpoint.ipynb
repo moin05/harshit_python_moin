{
 "cells": [
  {
   "cell_type": "code",
   "execution_count": 6,
   "metadata": {},
   "outputs": [
    {
     "name": "stdout",
     "output_type": "stream",
     "text": [
      "{'first_name': 'harshit', 'last_name': 'vashith'}\n",
      "<class 'dict'>\n"
     ]
    }
   ],
   "source": [
    "#kwargs (keyword arguments)\n",
    "# **kwargs ( double star operator )\n",
    "\n",
    "#kwargs as a parameter \n",
    "\n",
    "# double star ** ke baad kuch bhi likh skte hai \n",
    "#but by convention hum kwargs likhenge :)\n",
    "def func(**kwargs):\n",
    "    print(kwargs)\n",
    "    print(type(kwargs))\n",
    "\n",
    "func(first_name='harshit' , last_name='vashith') \n",
    "#**kwargs humare saare arguments ko dictionary ki tarah gather krta hai  \n",
    "#so_simple \n",
    "\n",
    "#  *args --->TUPLE\n",
    "#  **kwargs --->DICTIONARY\n"
   ]
  },
  {
   "cell_type": "code",
   "execution_count": 5,
   "metadata": {},
   "outputs": [
    {
     "name": "stdout",
     "output_type": "stream",
     "text": [
      "first_name : moin\n",
      "last_name : rawani\n"
     ]
    }
   ],
   "source": [
    "def func(**kwargs):\n",
    "    for k,v in kwargs.items():\n",
    "        print(f'{k} : {v}')\n",
    "        \n",
    "func(first_name='moin',last_name='rawani')\n",
    "        "
   ]
  },
  {
   "cell_type": "code",
   "execution_count": 8,
   "metadata": {},
   "outputs": [
    {
     "name": "stdout",
     "output_type": "stream",
     "text": [
      "first_name : moin\n",
      "last_name : rawani\n"
     ]
    }
   ],
   "source": [
    "def func(name,**kwargs):\n",
    "    for k,v in kwargs.items():\n",
    "        print(f'{k} : {v}')\n",
    "        \n",
    "func('moin',first_name='moin',last_name='rawani')\n",
    "        "
   ]
  },
  {
   "cell_type": "code",
   "execution_count": 10,
   "metadata": {},
   "outputs": [
    {
     "name": "stdout",
     "output_type": "stream",
     "text": [
      "name : harshit\n",
      "age : 24\n"
     ]
    }
   ],
   "source": [
    "#dictionary unpacking\n",
    "def func(**kwargs):\n",
    "    for k,v in kwargs.items():\n",
    "        print(f'{k} : {v}')\n",
    "d={\n",
    "    'name':'harshit',\n",
    "    'age':24\n",
    "}\n",
    "\n",
    "func(**d) #isse dict unpack hoti hai "
   ]
  },
  {
   "cell_type": "code",
   "execution_count": null,
   "metadata": {},
   "outputs": [],
   "source": []
  }
 ],
 "metadata": {
  "kernelspec": {
   "display_name": "Python 3",
   "language": "python",
   "name": "python3"
  },
  "language_info": {
   "codemirror_mode": {
    "name": "ipython",
    "version": 3
   },
   "file_extension": ".py",
   "mimetype": "text/x-python",
   "name": "python",
   "nbconvert_exporter": "python",
   "pygments_lexer": "ipython3",
   "version": "3.6.5"
  }
 },
 "nbformat": 4,
 "nbformat_minor": 2
}
