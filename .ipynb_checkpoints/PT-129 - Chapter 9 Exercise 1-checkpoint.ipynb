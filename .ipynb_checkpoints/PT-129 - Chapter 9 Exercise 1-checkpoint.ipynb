{
 "cells": [
  {
   "cell_type": "code",
   "execution_count": null,
   "metadata": {},
   "outputs": [],
   "source": [
    "#define a function that takes list of strings \n",
    "#list containing reverse of every string \n",
    "\n",
    "#Note - USE LIST comprehension because we already did this exercise using \n",
    "#the normal method \n",
    "\n",
    "#example \n",
    "#l = ['abc','tuv','xyz']\n",
    "#reverse_string(l) ----> [''cba','vut','zyx']"
   ]
  }
 ],
 "metadata": {
  "kernelspec": {
   "display_name": "Python 3",
   "language": "python",
   "name": "python3"
  },
  "language_info": {
   "codemirror_mode": {
    "name": "ipython",
    "version": 3
   },
   "file_extension": ".py",
   "mimetype": "text/x-python",
   "name": "python",
   "nbconvert_exporter": "python",
   "pygments_lexer": "ipython3",
   "version": "3.6.5"
  }
 },
 "nbformat": 4,
 "nbformat_minor": 2
}
