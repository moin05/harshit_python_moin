{
 "cells": [
  {
   "cell_type": "code",
   "execution_count": 2,
   "metadata": {},
   "outputs": [
    {
     "name": "stdout",
     "output_type": "stream",
     "text": [
      "{1: 1, 2: 4, 3: 9, 4: 16, 5: 25, 6: 36, 7: 49, 8: 64, 9: 81, 10: 100}\n"
     ]
    }
   ],
   "source": [
    "#dictionary comprehension \n",
    "#square{1:1,2:4,3:9,4:16.........}\n",
    "\n",
    "square = {num:num**2 for num in range(1,11) }\n",
    "print(square)\n"
   ]
  },
  {
   "cell_type": "code",
   "execution_count": 8,
   "metadata": {},
   "outputs": [
    {
     "name": "stdout",
     "output_type": "stream",
     "text": [
      "{'Square of 1 is ': 1, 'Square of 2 is ': 4, 'Square of 3 is ': 9, 'Square of 4 is ': 16, 'Square of 5 is ': 25, 'Square of 6 is ': 36, 'Square of 7 is ': 49, 'Square of 8 is ': 64, 'Square of 9 is ': 81, 'Square of 10 is ': 100}\n",
      "Square of 1 is  : 1 \n",
      "Square of 2 is  : 4 \n",
      "Square of 3 is  : 9 \n",
      "Square of 4 is  : 16 \n",
      "Square of 5 is  : 25 \n",
      "Square of 6 is  : 36 \n",
      "Square of 7 is  : 49 \n",
      "Square of 8 is  : 64 \n",
      "Square of 9 is  : 81 \n",
      "Square of 10 is  : 100 \n"
     ]
    }
   ],
   "source": [
    "#Now , output should be like \n",
    "#square of 1 : 1\n",
    "#square of 2 : 4\n",
    "square ={f'Square of {num} is ': num**2 for  num in range(1,11)}\n",
    "print(square) #^^^KEY             ^^^VALUE\n",
    "\n",
    "for k,v in square.items():\n",
    "    print(f\"{k} : {v} \")\n",
    "#smjh gya:)    "
   ]
  },
  {
   "cell_type": "code",
   "execution_count": 11,
   "metadata": {},
   "outputs": [
    {
     "name": "stdout",
     "output_type": "stream",
     "text": [
      "{'H': 1, 'a': 1, 'r': 1, 's': 1, 'h': 1, 'i': 1, 't': 1}\n"
     ]
    }
   ],
   "source": [
    "#'Harshit' --> iss word me konsa letter kitne baar aarah yeh count karo\n",
    "string='Harshit'\n",
    "word_count= {char:string.count(char) for char in string}\n",
    "print(word_count)"
   ]
  },
  {
   "cell_type": "code",
   "execution_count": null,
   "metadata": {},
   "outputs": [],
   "source": []
  }
 ],
 "metadata": {
  "kernelspec": {
   "display_name": "Python 3",
   "language": "python",
   "name": "python3"
  },
  "language_info": {
   "codemirror_mode": {
    "name": "ipython",
    "version": 3
   },
   "file_extension": ".py",
   "mimetype": "text/x-python",
   "name": "python",
   "nbconvert_exporter": "python",
   "pygments_lexer": "ipython3",
   "version": "3.6.5"
  }
 },
 "nbformat": 4,
 "nbformat_minor": 2
}
