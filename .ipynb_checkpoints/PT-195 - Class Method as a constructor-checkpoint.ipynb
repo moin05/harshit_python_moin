{
 "cells": [
  {
   "cell_type": "code",
   "execution_count": 1,
   "metadata": {},
   "outputs": [],
   "source": [
    "class Person:\n",
    "    count_instance=0 \n",
    "    def __init__(self,first_name,last_name,age):\n",
    "        Person.count_instance+=1\n",
    "        self.first_name=first_name\n",
    "        self.last_name=last_name\n",
    "        self.age=age\n",
    "        \n",
    "    def full_name(self): \n",
    "        return self.first_name+' '+self.last_name\n",
    "    \n",
    "    def is_above_18(self):\n",
    "        return age>18\n",
    "    \n",
    "    @classmethod              \n",
    "    def count_instances(cls):  \n",
    "        return f'created {cls.count_instance} obj of person class :) ' \n",
    "\n",
    "# Object crete krne ka usual tareeka \n",
    "# o1=Person('Harshit','vashishth',24)\n",
    "\n",
    "# Agar mrko aise object banana hai \n",
    "# o1=Person('Harshit,vashishth,24')\n",
    "# Toh iasa krne ke liye we will use class method :0\n"
   ]
  },
  {
   "cell_type": "code",
   "execution_count": 3,
   "metadata": {},
   "outputs": [],
   "source": [
    "class Person:\n",
    "    count_instance=0 \n",
    "    def __init__(self,first_name,last_name,age):\n",
    "        Person.count_instance+=1\n",
    "        self.first_name=first_name\n",
    "        self.last_name=last_name\n",
    "        self.age=age\n",
    "        \n",
    "    def full_name(self): \n",
    "        return self.first_name+' '+self.last_name\n",
    "    \n",
    "    def is_above_18(self):\n",
    "        return age>18\n",
    "    \n",
    "    @classmethod\n",
    "    def strring_method(cls,strring): #humeha pehle cls :)\n",
    "        first,last,age=strring.split(',')\n",
    "        return cls(first,last,age)\n",
    "        #obj return hora Person(first,last,age)\n",
    "        \n",
    "    \n",
    "    @classmethod              \n",
    "    def count_instances(cls):  \n",
    "        return f'created {cls.count_instance} obj of person class :) ' \n"
   ]
  },
  {
   "cell_type": "code",
   "execution_count": 5,
   "metadata": {},
   "outputs": [
    {
     "ename": "TypeError",
     "evalue": "__init__() missing 2 required positional arguments: 'last_name' and 'age'",
     "output_type": "error",
     "traceback": [
      "\u001b[1;31m---------------------------------------------------------------------------\u001b[0m",
      "\u001b[1;31mTypeError\u001b[0m                                 Traceback (most recent call last)",
      "\u001b[1;32m<ipython-input-5-428e07cb433a>\u001b[0m in \u001b[0;36m<module>\u001b[1;34m\u001b[0m\n\u001b[1;32m----> 1\u001b[1;33m \u001b[0mo1\u001b[0m\u001b[1;33m=\u001b[0m\u001b[0mPerson\u001b[0m\u001b[1;33m(\u001b[0m\u001b[1;34m'Harshit,vashishth,24'\u001b[0m\u001b[1;33m)\u001b[0m\u001b[1;33m\u001b[0m\u001b[0m\n\u001b[0m\u001b[0;32m      2\u001b[0m \u001b[1;31m# Aise run krdoge tab toh init hi call hojayega :(\u001b[0m\u001b[1;33m\u001b[0m\u001b[1;33m\u001b[0m\u001b[0m\n",
      "\u001b[1;31mTypeError\u001b[0m: __init__() missing 2 required positional arguments: 'last_name' and 'age'"
     ]
    }
   ],
   "source": [
    "o1=Person('Harshit,vashishth,24')\n",
    "# Aise run krdoge tab toh init hi call hojayega :("
   ]
  },
  {
   "cell_type": "code",
   "execution_count": 10,
   "metadata": {},
   "outputs": [
    {
     "data": {
      "text/plain": [
       "'Harshit'"
      ]
     },
     "execution_count": 10,
     "metadata": {},
     "output_type": "execute_result"
    }
   ],
   "source": [
    "o1=Person.strring_method('Harshit,vashishth,24')\n",
    "# Ab apan saare method pehle jaise hi use krr skte hai  :) \n",
    "o1.first_name"
   ]
  },
  {
   "cell_type": "code",
   "execution_count": null,
   "metadata": {},
   "outputs": [],
   "source": []
  }
 ],
 "metadata": {
  "kernelspec": {
   "display_name": "Python 3",
   "language": "python",
   "name": "python3"
  },
  "language_info": {
   "codemirror_mode": {
    "name": "ipython",
    "version": 3
   },
   "file_extension": ".py",
   "mimetype": "text/x-python",
   "name": "python",
   "nbconvert_exporter": "python",
   "pygments_lexer": "ipython3",
   "version": "3.7.0"
  }
 },
 "nbformat": 4,
 "nbformat_minor": 2
}
