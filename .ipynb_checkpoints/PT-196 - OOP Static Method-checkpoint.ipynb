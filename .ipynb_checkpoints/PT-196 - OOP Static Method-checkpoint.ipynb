{
 "cells": [
  {
   "cell_type": "code",
   "execution_count": 1,
   "metadata": {},
   "outputs": [],
   "source": [
    "# Class method me pehla argument = cls = represents class\n",
    "# Instance method me pehla argument = self = represents object\n",
    "\n",
    "# Static method is not related to class \n",
    "# Static method is not related to object\n",
    "# Normal function ki tarah hi define krte hai apan isko \n",
    "# Iska koi logical connection hota hai humari class ke sath \n"
   ]
  },
  {
   "cell_type": "code",
   "execution_count": 5,
   "metadata": {},
   "outputs": [],
   "source": [
    "class Person:\n",
    "    count_instance=0 \n",
    "    def __init__(self,first_name,last_name,age):\n",
    "        Person.count_instance+=1\n",
    "        self.first_name=first_name\n",
    "        self.last_name=last_name\n",
    "        self.age=age\n",
    "        \n",
    "    def full_name(self): \n",
    "        return self.first_name+' '+self.last_name\n",
    "    \n",
    "    def is_above_18(self):\n",
    "        return age>18\n",
    "    \n",
    "    @classmethod\n",
    "    def strring_method(cls,strring): #humeha pehle cls :)\n",
    "        first,last,age=strring.split(',')\n",
    "        return cls(first,last,age)\n",
    "        #obj return hora Person(first,last,age)\n",
    "        \n",
    "    @classmethod              \n",
    "    def count_instances(cls):  \n",
    "        return f'created {cls.count_instance} obj of person class :) ' \n",
    "    \n",
    "    @staticmethod\n",
    "    def hello():\n",
    "        print('hey static meeethod is called !! !!! ')"
   ]
  },
  {
   "cell_type": "code",
   "execution_count": 6,
   "metadata": {},
   "outputs": [
    {
     "name": "stdout",
     "output_type": "stream",
     "text": [
      "hey static meeethod is called !! !!! \n"
     ]
    }
   ],
   "source": [
    "Person.hello()"
   ]
  },
  {
   "cell_type": "code",
   "execution_count": null,
   "metadata": {},
   "outputs": [],
   "source": []
  }
 ],
 "metadata": {
  "kernelspec": {
   "display_name": "Python 3",
   "language": "python",
   "name": "python3"
  },
  "language_info": {
   "codemirror_mode": {
    "name": "ipython",
    "version": 3
   },
   "file_extension": ".py",
   "mimetype": "text/x-python",
   "name": "python",
   "nbconvert_exporter": "python",
   "pygments_lexer": "ipython3",
   "version": "3.7.0"
  }
 },
 "nbformat": 4,
 "nbformat_minor": 2
}
