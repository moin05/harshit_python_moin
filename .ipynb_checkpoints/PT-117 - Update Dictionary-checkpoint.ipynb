{
 "cells": [
  {
   "cell_type": "code",
   "execution_count": 3,
   "metadata": {},
   "outputs": [],
   "source": [
    "user_info={\n",
    "    'name':'harshit',\n",
    "    'age':24,\n",
    "    'fav_movies':['coco' ,'kimi no na wa'],\n",
    "    'fav_tunes':['awakening','fairy tale']\n",
    "}\n",
    "\n",
    "more_info={\n",
    "    'State':'Haryan',\n",
    "    'hobbies':['coding','reading','guitar']\n",
    "}"
   ]
  },
  {
   "cell_type": "code",
   "execution_count": 7,
   "metadata": {},
   "outputs": [],
   "source": [
    "user_info.update(more_info)\n",
    "#more_info wme jo hai woh user_info me add ho jayega"
   ]
  },
  {
   "cell_type": "code",
   "execution_count": 8,
   "metadata": {},
   "outputs": [
    {
     "name": "stdout",
     "output_type": "stream",
     "text": [
      "{'name': 'harshit', 'age': 24, 'fav_movies': ['coco', 'kimi no na wa'], 'fav_tunes': ['awakening', 'fairy tale'], 'State': 'Haryan', 'hobbies': ['coding', 'reading', 'guitar']}\n"
     ]
    }
   ],
   "source": [
    "print(user_info)"
   ]
  },
  {
   "cell_type": "code",
   "execution_count": 10,
   "metadata": {},
   "outputs": [
    {
     "name": "stdout",
     "output_type": "stream",
     "text": [
      "{'name': 'Moin', 'age': 24, 'fav_movies': ['coco', 'kimi no na wa'], 'fav_tunes': ['awakening', 'fairy tale'], 'State': 'Haryan', 'hobbies': ['coding', 'reading', 'guitar']}\n"
     ]
    }
   ],
   "source": [
    "user_info={\n",
    "    'name':'harshit',\n",
    "    'age':24,\n",
    "    'fav_movies':['coco' ,'kimi no na wa'],\n",
    "    'fav_tunes':['awakening','fairy tale']\n",
    "}\n",
    "\n",
    "more_info={\n",
    "    'name':'Moin',\n",
    "    'State':'Haryan',\n",
    "    'hobbies':['coding','reading','guitar']\n",
    "}\n",
    "user_info.update(more_info)\n",
    "print(user_info)\n",
    "\n",
    "#userinfo me name harshit tha aur moreinfo me name moin tha \n",
    "#toh name wull be updated to moin :)"
   ]
  },
  {
   "cell_type": "code",
   "execution_count": 13,
   "metadata": {},
   "outputs": [
    {
     "name": "stdout",
     "output_type": "stream",
     "text": [
      "{'name': 'harshit', 'age': 24, 'fav_movies': ['coco', 'kimi no na wa'], 'fav_tunes': ['awakening', 'fairy tale']}\n"
     ]
    }
   ],
   "source": [
    "user_info={\n",
    "    'name':'harshit',\n",
    "    'age':24,\n",
    "    'fav_movies':['coco' ,'kimi no na wa'],\n",
    "    'fav_tunes':['awakening','fairy tale']\n",
    "}\n",
    "user_info.update()\n",
    "#kuch nai hoga -_- :)\n",
    "print(user_info)"
   ]
  },
  {
   "cell_type": "code",
   "execution_count": null,
   "metadata": {},
   "outputs": [],
   "source": []
  }
 ],
 "metadata": {
  "kernelspec": {
   "display_name": "Python 3",
   "language": "python",
   "name": "python3"
  },
  "language_info": {
   "codemirror_mode": {
    "name": "ipython",
    "version": 3
   },
   "file_extension": ".py",
   "mimetype": "text/x-python",
   "name": "python",
   "nbconvert_exporter": "python",
   "pygments_lexer": "ipython3",
   "version": "3.6.5"
  }
 },
 "nbformat": 4,
 "nbformat_minor": 2
}
