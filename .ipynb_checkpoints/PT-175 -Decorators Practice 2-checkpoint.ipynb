{
 "cells": [
  {
   "cell_type": "code",
   "execution_count": 7,
   "metadata": {},
   "outputs": [
    {
     "data": {
      "text/plain": [
       "5"
      ]
     },
     "execution_count": 7,
     "metadata": {},
     "output_type": "execute_result"
    }
   ],
   "source": [
    "def add_all(*args):\n",
    "    total=0\n",
    "    for i in args:\n",
    "        total=total+i\n",
    "    return total\n",
    "\n",
    "add_all(2,3)"
   ]
  },
  {
   "cell_type": "code",
   "execution_count": 9,
   "metadata": {},
   "outputs": [
    {
     "ename": "TypeError",
     "evalue": "unsupported operand type(s) for +: 'int' and 'list'",
     "output_type": "error",
     "traceback": [
      "\u001b[1;31m---------------------------------------------------------------------------\u001b[0m",
      "\u001b[1;31mTypeError\u001b[0m                                 Traceback (most recent call last)",
      "\u001b[1;32m<ipython-input-9-8c0538621dc3>\u001b[0m in \u001b[0;36m<module>\u001b[1;34m()\u001b[0m\n\u001b[0;32m      5\u001b[0m     \u001b[1;32mreturn\u001b[0m \u001b[0mtotal\u001b[0m\u001b[1;33m\u001b[0m\u001b[0m\n\u001b[0;32m      6\u001b[0m \u001b[1;33m\u001b[0m\u001b[0m\n\u001b[1;32m----> 7\u001b[1;33m \u001b[0madd_all\u001b[0m\u001b[1;33m(\u001b[0m\u001b[1;36m2\u001b[0m\u001b[1;33m,\u001b[0m\u001b[1;36m3\u001b[0m\u001b[1;33m,\u001b[0m\u001b[1;33m[\u001b[0m\u001b[1;36m4\u001b[0m\u001b[1;33m,\u001b[0m\u001b[1;36m5\u001b[0m\u001b[1;33m]\u001b[0m\u001b[1;33m)\u001b[0m\u001b[1;33m\u001b[0m\u001b[0m\n\u001b[0m\u001b[0;32m      8\u001b[0m \u001b[1;33m\u001b[0m\u001b[0m\n\u001b[0;32m      9\u001b[0m \u001b[1;31m#Task-aisa decorator func banao,jo error na de aur bole ki khali int de skte hai add_all func me\u001b[0m\u001b[1;33m\u001b[0m\u001b[1;33m\u001b[0m\u001b[0m\n",
      "\u001b[1;32m<ipython-input-9-8c0538621dc3>\u001b[0m in \u001b[0;36madd_all\u001b[1;34m(*args)\u001b[0m\n\u001b[0;32m      2\u001b[0m     \u001b[0mtotal\u001b[0m\u001b[1;33m=\u001b[0m\u001b[1;36m0\u001b[0m\u001b[1;33m\u001b[0m\u001b[0m\n\u001b[0;32m      3\u001b[0m     \u001b[1;32mfor\u001b[0m \u001b[0mi\u001b[0m \u001b[1;32min\u001b[0m \u001b[0margs\u001b[0m\u001b[1;33m:\u001b[0m\u001b[1;33m\u001b[0m\u001b[0m\n\u001b[1;32m----> 4\u001b[1;33m         \u001b[0mtotal\u001b[0m\u001b[1;33m=\u001b[0m\u001b[0mtotal\u001b[0m\u001b[1;33m+\u001b[0m\u001b[0mi\u001b[0m\u001b[1;33m\u001b[0m\u001b[0m\n\u001b[0m\u001b[0;32m      5\u001b[0m     \u001b[1;32mreturn\u001b[0m \u001b[0mtotal\u001b[0m\u001b[1;33m\u001b[0m\u001b[0m\n\u001b[0;32m      6\u001b[0m \u001b[1;33m\u001b[0m\u001b[0m\n",
      "\u001b[1;31mTypeError\u001b[0m: unsupported operand type(s) for +: 'int' and 'list'"
     ]
    }
   ],
   "source": [
    "def add_all(*args):\n",
    "    total=0\n",
    "    for i in args:\n",
    "        total=total+i\n",
    "    return total\n",
    "\n",
    "add_all(2,3,[4,5])\n",
    "\n",
    "#Task-aisa decorator func banao,jo error na de aur bole ki khali int de skte hai add_all func me"
   ]
  },
  {
   "cell_type": "code",
   "execution_count": 19,
   "metadata": {},
   "outputs": [
    {
     "name": "stdout",
     "output_type": "stream",
     "text": [
      "invalid arguments\n"
     ]
    }
   ],
   "source": [
    "from functools import wraps\n",
    "def only_integer_allow(function):\n",
    "    wraps(function)\n",
    "    def wrapper_function(*args,**kwargs):\n",
    "        data_type=[]\n",
    "        for i in args:\n",
    "            data_type.append(type(i)==int)\n",
    "        if all(data_type):\n",
    "            return function(*args,**kwargs)\n",
    "        else:\n",
    "            print('invalid arguments')\n",
    "    return wrapper_function        \n",
    "\n",
    "@only_integer_allow    \n",
    "def add_all(*args):\n",
    "    total=0\n",
    "    for i in args:\n",
    "        total=total+i\n",
    "    return total\n",
    "\n",
    "add_all(2,3,3,[4,5])\n",
    "     "
   ]
  },
  {
   "cell_type": "code",
   "execution_count": 22,
   "metadata": {},
   "outputs": [
    {
     "data": {
      "text/plain": [
       "'invalid arguments'"
      ]
     },
     "execution_count": 22,
     "metadata": {},
     "output_type": "execute_result"
    }
   ],
   "source": [
    "#shortening the previous code !\n",
    "\n",
    "from functools import wraps\n",
    "def only_integer_allow(function):\n",
    "    wraps(function)\n",
    "    def wrapper_function(*args,**kwargs):\n",
    "        data_type=[type(i)==int for i in args]\n",
    "        if all(data_type):\n",
    "            return function(*args,**kwargs)\n",
    "        return 'invalid arguments'\n",
    "    return wrapper_function        \n",
    "\n",
    "@only_integer_allow    \n",
    "def add_all(*args):\n",
    "    total=0\n",
    "    for i in args:\n",
    "        total=total+i\n",
    "    return total\n",
    "\n",
    "add_all(2,3,3,[4,5])\n",
    "\n"
   ]
  },
  {
   "cell_type": "code",
   "execution_count": 23,
   "metadata": {},
   "outputs": [
    {
     "data": {
      "text/plain": [
       "'invalid arguments'"
      ]
     },
     "execution_count": 23,
     "metadata": {},
     "output_type": "execute_result"
    }
   ],
   "source": [
    "# shortening it further \n",
    "\n",
    "\n",
    "from functools import wraps\n",
    "def only_integer_allow(function):\n",
    "    wraps(function)\n",
    "    def wrapper_function(*args,**kwargs):\n",
    "        if all([type(i)==int for i in args]):\n",
    "            return function(*args,**kwargs)\n",
    "        return 'invalid arguments'\n",
    "    return wrapper_function        \n",
    "\n",
    "@only_integer_allow    \n",
    "def add_all(*args):\n",
    "    total=0\n",
    "    for i in args:\n",
    "        total=total+i\n",
    "    return total\n",
    "\n",
    "add_all(2,3,3,[4,5])\n"
   ]
  }
 ],
 "metadata": {
  "kernelspec": {
   "display_name": "Python 3",
   "language": "python",
   "name": "python3"
  },
  "language_info": {
   "codemirror_mode": {
    "name": "ipython",
    "version": 3
   },
   "file_extension": ".py",
   "mimetype": "text/x-python",
   "name": "python",
   "nbconvert_exporter": "python",
   "pygments_lexer": "ipython3",
   "version": "3.6.5"
  }
 },
 "nbformat": 4,
 "nbformat_minor": 2
}
