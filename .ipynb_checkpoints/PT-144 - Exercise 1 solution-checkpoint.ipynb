{
 "cells": [
  {
   "cell_type": "code",
   "execution_count": 13,
   "metadata": {},
   "outputs": [
    {
     "name": "stdout",
     "output_type": "stream",
     "text": [
      "[1, 8, 27, 64, 125]\n",
      "[1, 8, 27, 64, 125]\n",
      "hey u didnt enter anything\n",
      "[]\n"
     ]
    }
   ],
   "source": [
    "def cuber(*args):\n",
    "    cube_list=[]\n",
    "    for i in args:\n",
    "        cube_list.append(i**3)\n",
    "    return cube_list\n",
    "\n",
    "list_to_cube=[1,2,3,4,5]\n",
    "tuple_to_cube=(1,2,3,4,5)\n",
    "\n",
    "print(cuber(*list_to_cube))\n",
    "print(cuber(*tuple_to_cube))\n",
    "\n",
    "    \n",
    "        "
   ]
  },
  {
   "cell_type": "code",
   "execution_count": 3,
   "metadata": {},
   "outputs": [
    {
     "name": "stdout",
     "output_type": "stream",
     "text": [
      "[1, 8, 27, 64, 125]\n",
      "[1, 8, 27, 64, 125]\n"
     ]
    }
   ],
   "source": [
    "#Alternate method\n",
    "\n",
    "def cuber(*args):\n",
    "    cube_list=[i**3 for i in args]\n",
    "    return cube_list\n",
    "\n",
    "list_to_cube=[1,2,3,4,5]\n",
    "tuple_to_cube=(1,2,3,4,5)\n",
    "\n",
    "print(cuber(*list_to_cube))\n",
    "print(cuber(*tuple_to_cube))\n",
    "    \n",
    "        "
   ]
  },
  {
   "cell_type": "code",
   "execution_count": 6,
   "metadata": {},
   "outputs": [
    {
     "name": "stdout",
     "output_type": "stream",
     "text": [
      "[1, 8, 27, 64, 125]\n",
      "[1, 8, 27, 64, 125]\n"
     ]
    }
   ],
   "source": [
    "#Alternate method\n",
    "\n",
    "def cuber(*args):\n",
    "    return [i**3 for i in args]\n",
    "\n",
    "list_to_cube=[1,2,3,4,5]\n",
    "tuple_to_cube=(1,2,3,4,5)\n",
    "\n",
    "print(cuber(*list_to_cube))\n",
    "print(cuber(*tuple_to_cube))\n",
    "    \n",
    "        "
   ]
  },
  {
   "cell_type": "code",
   "execution_count": 7,
   "metadata": {},
   "outputs": [],
   "source": [
    "#How to check if list is empty or not \n",
    "#l=[1,2,3]\n",
    "#if l:  ------> agar list is empty toh yeh FALSE hojayega #oh wow!\n",
    "\n"
   ]
  },
  {
   "cell_type": "code",
   "execution_count": 14,
   "metadata": {},
   "outputs": [
    {
     "name": "stdout",
     "output_type": "stream",
     "text": [
      "[1, 8, 27, 64, 125]\n",
      "[1, 8, 27, 64, 125]\n",
      "hey u didnt enter anything\n",
      "[]\n"
     ]
    }
   ],
   "source": [
    "#Agar list khali hui toh\n",
    "\n",
    "def cuber(*args):\n",
    "    cube_list=[]\n",
    "    if args:  #when args is not empty --> TRUE\n",
    "        for i in args:\n",
    "            cube_list.append(i**3)\n",
    "    else:\n",
    "        print('hey u didnt enter anything')\n",
    "    return cube_list\n",
    "\n",
    "list_to_cube=[1,2,3,4,5]\n",
    "tuple_to_cube=(1,2,3,4,5)\n",
    "list_to_cube_empty=[]\n",
    "\n",
    "print(cuber(*list_to_cube))\n",
    "print(cuber(*tuple_to_cube))\n",
    "print(cuber(*list_to_cube_empty))\n",
    "    \n",
    "        "
   ]
  },
  {
   "cell_type": "code",
   "execution_count": 20,
   "metadata": {},
   "outputs": [
    {
     "name": "stdout",
     "output_type": "stream",
     "text": [
      "[1, 8, 27, 64, 125]\n",
      "[1, 8, 27, 64, 125]\n",
      "u didnt enter anything\n"
     ]
    }
   ],
   "source": [
    "#Alternate method\n",
    "\n",
    "def cuber(*args):\n",
    "    if args:\n",
    "        return [i**3 for i in args]\n",
    "    else:\n",
    "        return 'u didnt enter anything'\n",
    "    \n",
    "\n",
    "list_to_cube=[1,2,3,4,5]\n",
    "tuple_to_cube=(1,2,3,4,5)\n",
    "list_to_cube_empty=[]\n",
    "\n",
    "print(cuber(*list_to_cube))\n",
    "print(cuber(*tuple_to_cube))\n",
    "print(cuber(*list_to_cube_empty))\n",
    "    \n",
    "        "
   ]
  },
  {
   "cell_type": "code",
   "execution_count": 21,
   "metadata": {},
   "outputs": [
    {
     "name": "stdout",
     "output_type": "stream",
     "text": [
      "[1, 8, 27, 64, 125]\n",
      "[1, 8, 27, 64, 125]\n",
      "u didnt enter anything\n"
     ]
    }
   ],
   "source": [
    "#Alternate method\n",
    "\n",
    "def cuber(*args):\n",
    "    if args:\n",
    "        return [i**3 for i in args]\n",
    "    else:\n",
    "        return 'u didnt enter anything'\n",
    "    \n",
    "list_to_cube=[1,2,3,4,5]\n",
    "tuple_to_cube=(1,2,3,4,5)\n",
    "list_to_cube_empty=[]\n",
    "\n",
    "print(cuber(*list_to_cube))\n",
    "print(cuber(*tuple_to_cube))\n",
    "print(cuber(*list_to_cube_empty))\n",
    "    \n",
    "        "
   ]
  },
  {
   "cell_type": "code",
   "execution_count": 22,
   "metadata": {},
   "outputs": [],
   "source": [
    "#Enjoyed this exercise very much "
   ]
  },
  {
   "cell_type": "code",
   "execution_count": 24,
   "metadata": {},
   "outputs": [
    {
     "name": "stdout",
     "output_type": "stream",
     "text": [
      "[1, 4, 9, 16, 25]\n",
      "[1, 16, 81, 256, 625]\n",
      "u didnt enter anything\n"
     ]
    }
   ],
   "source": [
    "#Ab kitni power se raise krna hai jo bhi user se hi pucho \n",
    "#eg - cube karu ,sq karu , **4 karu etc etc \n",
    "\n",
    "#num - kitni power se raise krna hai \n",
    "def to_power(num , *args):\n",
    "    if args:\n",
    "        return [i**num for i in args]\n",
    "    else:\n",
    "        return 'u didnt enter anything'\n",
    "    \n",
    "\n",
    "list_to_cube=[1,2,3,4,5]\n",
    "tuple_to_cube=(1,2,3,4,5)\n",
    "list_to_cube_empty=[]\n",
    "\n",
    "print(to_power(2,*list_to_cube))\n",
    "print(to_power(4,*tuple_to_cube))\n",
    "print(to_power(3,*list_to_cube_empty))\n",
    "    \n",
    "        \n"
   ]
  },
  {
   "cell_type": "code",
   "execution_count": null,
   "metadata": {},
   "outputs": [],
   "source": []
  }
 ],
 "metadata": {
  "kernelspec": {
   "display_name": "Python 3",
   "language": "python",
   "name": "python3"
  },
  "language_info": {
   "codemirror_mode": {
    "name": "ipython",
    "version": 3
   },
   "file_extension": ".py",
   "mimetype": "text/x-python",
   "name": "python",
   "nbconvert_exporter": "python",
   "pygments_lexer": "ipython3",
   "version": "3.6.5"
  }
 },
 "nbformat": 4,
 "nbformat_minor": 2
}
