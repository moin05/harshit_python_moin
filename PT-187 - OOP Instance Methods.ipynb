{
 "cells": [
  {
   "cell_type": "code",
   "execution_count": 5,
   "metadata": {},
   "outputs": [
    {
     "data": {
      "text/plain": [
       "[1, 2]"
      ]
     },
     "execution_count": 5,
     "metadata": {},
     "output_type": "execute_result"
    }
   ],
   "source": [
    "# Instance Methods\n",
    "l = [1,2,3]\n",
    "# List class pehle se bani hui hai , uska instance hai l1\n",
    "# List class pehle se bani hui hai , uska object hai l1\n",
    "# Instance aur object same cheez hoti :) \n",
    "l.pop()\n",
    "l # .pop() is a functionality/method\n",
    "# Class ke ander jo function defined hote hai unko apan methods bolte hai"
   ]
  },
  {
   "cell_type": "code",
   "execution_count": 16,
   "metadata": {},
   "outputs": [
    {
     "name": "stdout",
     "output_type": "stream",
     "text": [
      "harshit vashishth\n",
      "moin raw\n"
     ]
    }
   ],
   "source": [
    "# __init__ is also called a constructor ,kyuki init ki madad se hi hum object \n",
    "# bana pate hai \n",
    "class Person:\n",
    "    def __init__(self,first_name,last_name,age):\n",
    "        self.first_name=first_name\n",
    "        self.last_name=last_name\n",
    "        self.age=age\n",
    "    \n",
    "    def full_name(self):\n",
    "        return self.first_name+' '+self.last_name\n",
    "        \n",
    "# Class ke ander ke kisi bhi function ke ander tumko sabse pehle \n",
    "# self likhna hai :)         \n",
    "p1=Person('harshit','vashishth',44)\n",
    "# object me apan ko self pass karane ki zaroorat nai , \n",
    "# python khud hi krr deta woh\n",
    "print(p1.full_name())\n",
    "\n",
    "p2=Person('moin','raw',20)\n",
    "print(p2.full_name())"
   ]
  },
  {
   "cell_type": "code",
   "execution_count": 18,
   "metadata": {},
   "outputs": [
    {
     "data": {
      "text/plain": [
       "'harshit vashishth'"
      ]
     },
     "execution_count": 18,
     "metadata": {},
     "output_type": "execute_result"
    }
   ],
   "source": [
    "# Apan self kyu likhte \n",
    "# kyuki sabse pehle python yeh krta\n",
    "# Person.full_name(p1)\n",
    "Person.full_name(p1)  #aise bhi likh skte \n",
    "#previous cell me jaise likha tha , har jagah waisa hi likha hua milega :)"
   ]
  },
  {
   "cell_type": "code",
   "execution_count": 20,
   "metadata": {},
   "outputs": [
    {
     "data": {
      "text/plain": [
       "[1, 2, 3]"
      ]
     },
     "execution_count": 20,
     "metadata": {},
     "output_type": "execute_result"
    }
   ],
   "source": [
    "liss= [1,2,3,4]\n",
    "liss.pop()\n",
    "liss"
   ]
  },
  {
   "cell_type": "code",
   "execution_count": 22,
   "metadata": {},
   "outputs": [
    {
     "data": {
      "text/plain": [
       "[1, 2, 3]"
      ]
     },
     "execution_count": 22,
     "metadata": {},
     "output_type": "execute_result"
    }
   ],
   "source": [
    "liss= [1,2,3,4]\n",
    "list.pop(liss)\n",
    "liss\n",
    "# Smjh gya :0 wow "
   ]
  },
  {
   "cell_type": "code",
   "execution_count": 25,
   "metadata": {},
   "outputs": [
    {
     "data": {
      "text/plain": [
       "[1, 2, 3, 4, 5]"
      ]
     },
     "execution_count": 25,
     "metadata": {},
     "output_type": "execute_result"
    }
   ],
   "source": [
    "liss=[1,2,3,4]\n",
    "liss.append(5)\n",
    "liss"
   ]
  },
  {
   "cell_type": "code",
   "execution_count": 26,
   "metadata": {},
   "outputs": [
    {
     "data": {
      "text/plain": [
       "[1, 2, 3, 4, 5]"
      ]
     },
     "execution_count": 26,
     "metadata": {},
     "output_type": "execute_result"
    }
   ],
   "source": [
    "liss=[1,2,3,4]\n",
    "list.append(liss,5)\n",
    "liss\n",
    "# smjh gya :) wow"
   ]
  },
  {
   "cell_type": "code",
   "execution_count": 37,
   "metadata": {},
   "outputs": [
    {
     "name": "stdout",
     "output_type": "stream",
     "text": [
      "True\n",
      "moin raw\n"
     ]
    }
   ],
   "source": [
    "class Person:\n",
    "    def __init__(self,first_name,last_name,age):\n",
    "        self.first_name=first_name\n",
    "        self.last_name=last_name\n",
    "        self.age=age\n",
    "    def full_name(self): # koi alag se argument pass krane ki zaroorat nai\n",
    "                         #first_name aur last_name toh pehle hi le chuke :)\n",
    "        return self.first_name+' '+self.last_name\n",
    "    def is_above_18(self):\n",
    "        if self.age >18:\n",
    "            return True\n",
    "        return False\n",
    "p1=Person('moin','raw',19)\n",
    "\n",
    "print(p1.is_above_18())\n",
    "print(p1.full_name())"
   ]
  },
  {
   "cell_type": "code",
   "execution_count": 38,
   "metadata": {},
   "outputs": [
    {
     "name": "stdout",
     "output_type": "stream",
     "text": [
      "True\n",
      "moin raw\n"
     ]
    }
   ],
   "source": [
    "# Shorter way\n",
    "\n",
    "class Person:\n",
    "    def __init__(self,first_name,last_name,age):\n",
    "        self.first_name=first_name\n",
    "        self.last_name=last_name\n",
    "        self.age=age\n",
    "    def full_name(self): # koi alag se argument pass krane ki zaroorat nai\n",
    "                         #first_name aur last_name toh pehle hi le chuke :)\n",
    "        return self.first_name+' '+self.last_name\n",
    "    def is_above_18(self):\n",
    "        return self.age >18\n",
    "        \n",
    "p1=Person('moin','raw',19)\n",
    "\n",
    "print(p1.is_above_18())\n",
    "print(p1.full_name())"
   ]
  },
  {
   "cell_type": "code",
   "execution_count": null,
   "metadata": {},
   "outputs": [],
   "source": []
  }
 ],
 "metadata": {
  "kernelspec": {
   "display_name": "Python 3",
   "language": "python",
   "name": "python3"
  },
  "language_info": {
   "codemirror_mode": {
    "name": "ipython",
    "version": 3
   },
   "file_extension": ".py",
   "mimetype": "text/x-python",
   "name": "python",
   "nbconvert_exporter": "python",
   "pygments_lexer": "ipython3",
   "version": "3.7.0"
  },
  "widgets": {
   "state": {},
   "version": "1.1.2"
  }
 },
 "nbformat": 4,
 "nbformat_minor": 2
}
