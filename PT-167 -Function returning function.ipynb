{
 "cells": [
  {
   "cell_type": "code",
   "execution_count": 1,
   "metadata": {},
   "outputs": [],
   "source": [
    "#Function returning function\n"
   ]
  },
  {
   "cell_type": "code",
   "execution_count": 4,
   "metadata": {},
   "outputs": [
    {
     "data": {
      "text/plain": [
       "<function __main__.outer_func.<locals>.inner_func()>"
      ]
     },
     "execution_count": 4,
     "metadata": {},
     "output_type": "execute_result"
    }
   ],
   "source": [
    "def outer_func():\n",
    "    def inner_func():\n",
    "        print('inside inner func')\n",
    "    return inner_func\n",
    "\n",
    "var= outer_func()     #mtlb var=inner_func hogya ab\n",
    "var"
   ]
  },
  {
   "cell_type": "code",
   "execution_count": 6,
   "metadata": {},
   "outputs": [
    {
     "name": "stdout",
     "output_type": "stream",
     "text": [
      "inside inner func\n"
     ]
    }
   ],
   "source": [
    "var()"
   ]
  },
  {
   "cell_type": "code",
   "execution_count": 1,
   "metadata": {},
   "outputs": [
    {
     "name": "stdout",
     "output_type": "stream",
     "text": [
      "inside inner func\n"
     ]
    }
   ],
   "source": [
    "def outer_func():\n",
    "    def inner_func():\n",
    "        print('inside inner func')\n",
    "    return inner_func()    #outer_func returns inner_func ,execute krke\n",
    "\n",
    "var= outer_func()     #mtlb var=inner_func hogya ab\n",
    "var"
   ]
  },
  {
   "cell_type": "code",
   "execution_count": 3,
   "metadata": {},
   "outputs": [
    {
     "data": {
      "text/plain": [
       "<function __main__.outer_func2.<locals>.inner_func2()>"
      ]
     },
     "execution_count": 3,
     "metadata": {},
     "output_type": "execute_result"
    }
   ],
   "source": [
    "def outer_func2(msg):\n",
    "    def inner_func2():\n",
    "        print(f'message is {msg}')\n",
    "    return inner_func2  \n",
    "\n",
    "varr = outer_func2('heyy')\n",
    "varr     #ab varr is same as inner_func2 with msg=heyy\n"
   ]
  },
  {
   "cell_type": "code",
   "execution_count": 5,
   "metadata": {},
   "outputs": [
    {
     "name": "stdout",
     "output_type": "stream",
     "text": [
      "message is heyy\n"
     ]
    }
   ],
   "source": [
    "varr()"
   ]
  },
  {
   "cell_type": "code",
   "execution_count": 6,
   "metadata": {},
   "outputs": [
    {
     "data": {
      "text/plain": [
       "<function __main__.outer_func2.<locals>.inner_func2()>"
      ]
     },
     "execution_count": 6,
     "metadata": {},
     "output_type": "execute_result"
    }
   ],
   "source": [
    "varr"
   ]
  },
  {
   "cell_type": "code",
   "execution_count": null,
   "metadata": {},
   "outputs": [],
   "source": [
    "#funtion returning funtion ko CLOSURES bhi bolte hai\n",
    "#funtion returning funtion ko FIRST CLASS FUNCTION bhi bolte hai"
   ]
  }
 ],
 "metadata": {
  "kernelspec": {
   "display_name": "Python 3",
   "language": "python",
   "name": "python3"
  },
  "language_info": {
   "codemirror_mode": {
    "name": "ipython",
    "version": 3
   },
   "file_extension": ".py",
   "mimetype": "text/x-python",
   "name": "python",
   "nbconvert_exporter": "python",
   "pygments_lexer": "ipython3",
   "version": "3.6.5"
  }
 },
 "nbformat": 4,
 "nbformat_minor": 2
}
