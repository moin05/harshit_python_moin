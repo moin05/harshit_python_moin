{
 "cells": [
  {
   "cell_type": "code",
   "execution_count": 3,
   "metadata": {},
   "outputs": [
    {
     "name": "stdout",
     "output_type": "stream",
     "text": [
      "{'full_name': 'lenoak47', 'model_name': 'leno', 'price_kitna': 4000, 'brand_name': 'ak47'}\n"
     ]
    }
   ],
   "source": [
    "class Laptop:\n",
    "    def __init__(self,model,brand,price):\n",
    "        self.model_name=model\n",
    "        self.brand_name=brand\n",
    "        self.price_kitna=price\n",
    "        self.full_name=model+brand\n",
    "    def apply_discount(self,how_much):\n",
    "        return (self.price_kitna -((how_much*0.01)*self.price_kitna))\n",
    "\n",
    "laptop1=Laptop('leno','ak47',4000)   \n",
    "print(laptop1.__dict__) \n",
    "# Agar object ki saare varibles jaane hai toh __dict__"
   ]
  },
  {
   "cell_type": "code",
   "execution_count": 7,
   "metadata": {},
   "outputs": [
    {
     "name": "stdout",
     "output_type": "stream",
     "text": [
      "3600.0\n"
     ]
    }
   ],
   "source": [
    "class Laptop:\n",
    "    how_much=10\n",
    "    def __init__(self,model,brand,price):\n",
    "        self.model_name=model\n",
    "        self.brand_name=brand\n",
    "        self.price_kitna=price\n",
    "        self.full_name=model+brand\n",
    "    def apply_discount(self):\n",
    "        return (self.price_kitna -((Laptop.how_much*0.01)*self.price_kitna))\n",
    "    \n",
    "l1=Laptop('Leno','ak47',4000)\n",
    "print(l1.apply_discount())\n"
   ]
  },
  {
   "cell_type": "code",
   "execution_count": 8,
   "metadata": {},
   "outputs": [
    {
     "name": "stdout",
     "output_type": "stream",
     "text": [
      "0.0\n"
     ]
    }
   ],
   "source": [
    "class Laptop:\n",
    "    how_much=10\n",
    "    def __init__(self,model,brand,price):\n",
    "        self.model_name=model\n",
    "        self.brand_name=brand\n",
    "        self.price_kitna=price\n",
    "        self.full_name=model+brand\n",
    "    def apply_discount(self):\n",
    "        return (self.price_kitna -((Laptop.how_much*0.01)*self.price_kitna))\n",
    "\n",
    "    \n",
    "Laptop.how_much=100    \n",
    "l1=Laptop('Leno','ak47',4000)\n",
    "print(l1.apply_discount())\n"
   ]
  },
  {
   "cell_type": "code",
   "execution_count": 12,
   "metadata": {},
   "outputs": [
    {
     "name": "stdout",
     "output_type": "stream",
     "text": [
      "3600.0\n",
      "1500.0\n",
      "4500.0\n"
     ]
    }
   ],
   "source": [
    "class Laptop:\n",
    "    how_much=10\n",
    "    def __init__(self,model,brand,price):\n",
    "        self.model_name=model\n",
    "        self.brand_name=brand\n",
    "        self.price_kitna=price\n",
    "        self.full_name=model+brand\n",
    "    def apply_discount(self):\n",
    "        return (self.price_kitna -((self.how_much*0.01)*self.price_kitna))\n",
    "#                                  ^^^^^ yaha self krr diya\n",
    "l1=Laptop('Leno','ak47',4000)\n",
    "l2=Laptop('Asus','ak45',3000)\n",
    "l2.how_much=50   # ---> Object variable/instance\n",
    "l3=Laptop('Del','ak44',5000)\n",
    "# mrko khali del ke laptop me 50 percent discount dena baki sab me 10 \n",
    "\n",
    "print(l1.apply_discount())\n",
    "print(l2.apply_discount())\n",
    "print(l3.apply_discount())\n",
    "\n",
    "# dhyan se suno\n",
    "# python pehle check krega ki kya how_much object ke pass hai (instance)\n",
    "# agar nai hua toh class variable use karega :) \n"
   ]
  },
  {
   "cell_type": "code",
   "execution_count": null,
   "metadata": {},
   "outputs": [],
   "source": []
  }
 ],
 "metadata": {
  "kernelspec": {
   "display_name": "Python 3",
   "language": "python",
   "name": "python3"
  },
  "language_info": {
   "codemirror_mode": {
    "name": "ipython",
    "version": 3
   },
   "file_extension": ".py",
   "mimetype": "text/x-python",
   "name": "python",
   "nbconvert_exporter": "python",
   "pygments_lexer": "ipython3",
   "version": "3.7.0"
  },
  "widgets": {
   "state": {},
   "version": "1.1.2"
  }
 },
 "nbformat": 4,
 "nbformat_minor": 2
}
