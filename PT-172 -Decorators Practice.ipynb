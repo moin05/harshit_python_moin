{
 "cells": [
  {
   "cell_type": "code",
   "execution_count": 1,
   "metadata": {},
   "outputs": [],
   "source": [
    "#Task\n",
    "\n",
    "def add(a,b):\n",
    "    '''This func takes two numbers as arguments and returns their sum'''\n",
    "    return a+b\n",
    "\n",
    "#add(2,3)\n",
    "\n",
    "#output should be :\n",
    "#you are calling add function \n",
    "#This func takes two numbers as arguments and returns their sum\n",
    "#5"
   ]
  },
  {
   "cell_type": "code",
   "execution_count": 11,
   "metadata": {},
   "outputs": [
    {
     "name": "stdout",
     "output_type": "stream",
     "text": [
      "you r calling add_func function\n",
      "This func takes two numbers as arguments and returns their sum\n",
      "5\n"
     ]
    }
   ],
   "source": [
    "#copy paste keke edit kiya\n",
    "\n",
    "from functools import wraps\n",
    "\n",
    "def decorator_func(any_function):\n",
    "    @wraps(any_function)\n",
    "    def wrapper_func(*args,**kwargs):\n",
    "        #'''This is wrapper function'''\n",
    "        print(f'you r calling {any_function.__name__} function')\n",
    "        print(any_function.__doc__)\n",
    "        return any_function(*args,**kwargs)   \n",
    "    return wrapper_func                 \n",
    "\n",
    "@decorator_func\n",
    "def add_func(a,b):\n",
    "    '''This func takes two numbers as arguments and returns their sum'''\n",
    "    return a+b\n",
    "\n",
    "print(add_func(2,3))\n",
    "\n",
    " #isme add_func ka docstring aara hai \n"
   ]
  },
  {
   "cell_type": "code",
   "execution_count": 27,
   "metadata": {},
   "outputs": [
    {
     "name": "stdout",
     "output_type": "stream",
     "text": [
      "you are calling add function\n",
      "This func takes two numbers as arguments and returns their sum\n"
     ]
    },
    {
     "data": {
      "text/plain": [
       "5"
      ]
     },
     "execution_count": 27,
     "metadata": {},
     "output_type": "execute_result"
    }
   ],
   "source": [
    "#pura khud se likha \n",
    "\n",
    "from functools import wraps\n",
    "\n",
    "def print_function_data(function):\n",
    "    @wraps(function)\n",
    "    def wrapper_function(*args,**kwargs):\n",
    "        print(f'you are calling {function.__name__} function')\n",
    "        print(function.__doc__)\n",
    "        return function(*args,**kwargs)\n",
    "    return wrapper_function\n",
    "\n",
    "@print_function_data\n",
    "def add(a,b):\n",
    "    '''This func takes two numbers as arguments and returns their sum'''\n",
    "    return a+b\n",
    "\n",
    "add(2,3)"
   ]
  },
  {
   "cell_type": "code",
   "execution_count": null,
   "metadata": {},
   "outputs": [],
   "source": []
  }
 ],
 "metadata": {
  "kernelspec": {
   "display_name": "Python 3",
   "language": "python",
   "name": "python3"
  },
  "language_info": {
   "codemirror_mode": {
    "name": "ipython",
    "version": 3
   },
   "file_extension": ".py",
   "mimetype": "text/x-python",
   "name": "python",
   "nbconvert_exporter": "python",
   "pygments_lexer": "ipython3",
   "version": "3.6.5"
  }
 },
 "nbformat": 4,
 "nbformat_minor": 2
}
