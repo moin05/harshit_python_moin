{
 "cells": [
  {
   "cell_type": "code",
   "execution_count": 1,
   "metadata": {},
   "outputs": [],
   "source": [
    "#EK baat \n",
    "#func ko define krte waqt , uske ander jo likhte hai,usko PARAMENTER bolte\n",
    "#func ko call krte waqt , uske ander jo likhte hai,usko ARGUMENT bolte"
   ]
  },
  {
   "cell_type": "code",
   "execution_count": 3,
   "metadata": {},
   "outputs": [
    {
     "name": "stdout",
     "output_type": "stream",
     "text": [
      "(2, 3, 4, 5)\n",
      "120\n"
     ]
    }
   ],
   "source": [
    "def multiply_nums(*args):\n",
    "    multiply =1 \n",
    "    print(args)\n",
    "    for i in args:\n",
    "        multiply=multiply*i\n",
    "    return multiply\n",
    "\n",
    "print(multiply_nums(2,3,4,5))"
   ]
  },
  {
   "cell_type": "code",
   "execution_count": 4,
   "metadata": {},
   "outputs": [
    {
     "name": "stdout",
     "output_type": "stream",
     "text": [
      "([2, 3, 4],)\n",
      "[2, 3, 4]\n"
     ]
    }
   ],
   "source": [
    "def multiply_nums(*args):\n",
    "    multiply =1 \n",
    "    print(args)\n",
    "    for i in args:\n",
    "        multiply=multiply*i\n",
    "    return multiply\n",
    "nums=[2,3,4]\n",
    "print(multiply_nums(nums))\n",
    "#tuple me list chali jayegi"
   ]
  },
  {
   "cell_type": "code",
   "execution_count": 5,
   "metadata": {},
   "outputs": [
    {
     "name": "stdout",
     "output_type": "stream",
     "text": [
      "(2, 3, 4)\n",
      "24\n"
     ]
    }
   ],
   "source": [
    "def multiply_nums(*args):\n",
    "    multiply =1 \n",
    "    print(args)\n",
    "    for i in args:\n",
    "        multiply=multiply*i\n",
    "    return multiply\n",
    "nums=[2,3,4]\n",
    "print(multiply_nums(*nums))\n",
    "#list ke naam ke pehle star lagadoge toh list unpack hoke \n",
    "#tuple me chali jayegi :)\n"
   ]
  },
  {
   "cell_type": "code",
   "execution_count": 6,
   "metadata": {},
   "outputs": [
    {
     "name": "stdout",
     "output_type": "stream",
     "text": [
      "(2, 3, 4)\n",
      "24\n"
     ]
    }
   ],
   "source": [
    "def multiply_nums(*args):\n",
    "    multiply =1 \n",
    "    print(args)\n",
    "    for i in args:\n",
    "        multiply=multiply*i\n",
    "    return multiply\n",
    "nums=(2,3,4)\n",
    "print(multiply_nums(*nums))\n",
    "#num is a tuple now . \n",
    "#tuple ke naam ke pehle star lagadoge toh list unpack hoke \n",
    "#tuple me chali jayegi :)\n"
   ]
  },
  {
   "cell_type": "code",
   "execution_count": null,
   "metadata": {},
   "outputs": [],
   "source": []
  }
 ],
 "metadata": {
  "kernelspec": {
   "display_name": "Python 3",
   "language": "python",
   "name": "python3"
  },
  "language_info": {
   "codemirror_mode": {
    "name": "ipython",
    "version": 3
   },
   "file_extension": ".py",
   "mimetype": "text/x-python",
   "name": "python",
   "nbconvert_exporter": "python",
   "pygments_lexer": "ipython3",
   "version": "3.6.5"
  }
 },
 "nbformat": 4,
 "nbformat_minor": 2
}
