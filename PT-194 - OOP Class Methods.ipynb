{
 "cells": [
  {
   "cell_type": "code",
   "execution_count": 1,
   "metadata": {},
   "outputs": [],
   "source": [
    "# Class method\n",
    "# Difference between class method and Instance Method"
   ]
  },
  {
   "cell_type": "code",
   "execution_count": 17,
   "metadata": {},
   "outputs": [],
   "source": [
    "class Person:\n",
    "    count_instance=0  #class variable/ class attribute\n",
    "    def __init__(self,first_name,last_name,age):\n",
    "        Person.count_instance+=1\n",
    "        self.first_name=first_name\n",
    "        self.last_name=last_name\n",
    "        self.age=age\n",
    "        \n",
    "    def full_name(self): #Instance Method->mtlb mai jo bhi object banaunga \n",
    "                         #usme yeh method use krr skta \n",
    "        return self.first_name+' '+self.last_name\n",
    "    def is_above_18(self):\n",
    "        return age>18\n",
    "    \n",
    "    @classmethod              #classmethod is a decorator func\n",
    "    def count_instances(cls): #jaise instance method me by convention pehle \n",
    "                              #self likhte hai ,waise class method me pehle\n",
    "                              # cls likhte hai \n",
    "                              # cls represents Person class \n",
    "        return f'created {cls.count_instance} obj of person class :) ' \n",
    "#yeh bhi chalega         Person.count_instance       cls.__name__     "
   ]
  },
  {
   "cell_type": "code",
   "execution_count": 18,
   "metadata": {},
   "outputs": [
    {
     "data": {
      "text/plain": [
       "'created 3 obj of person class :) '"
      ]
     },
     "execution_count": 18,
     "metadata": {},
     "output_type": "execute_result"
    }
   ],
   "source": [
    "o1=Person('moi','raw',19)\n",
    "o2=Person('moi','raw',19)\n",
    "o3=Person('moi','raw',19)\n",
    "Person.count_instances()\n",
    "# agar tum o1.count_instance likhoge tab bhi yeh output ayega but aisa nai krna"
   ]
  },
  {
   "cell_type": "code",
   "execution_count": 14,
   "metadata": {},
   "outputs": [],
   "source": [
    "# How to use class method\n",
    "# ClassKaNaam.method()"
   ]
  },
  {
   "cell_type": "code",
   "execution_count": null,
   "metadata": {},
   "outputs": [],
   "source": []
  },
  {
   "cell_type": "code",
   "execution_count": 11,
   "metadata": {},
   "outputs": [
    {
     "data": {
      "text/plain": [
       "'moiraw'"
      ]
     },
     "execution_count": 11,
     "metadata": {},
     "output_type": "execute_result"
    }
   ],
   "source": [
    "class Person:\n",
    "    def __init__(self,fir,las):\n",
    "        self.fir=fir\n",
    "        self.las=las\n",
    "    def pura(self):\n",
    "        return self.fir+self.las\n",
    "    \n",
    "o1=Person('moi','raw')\n",
    "o1.pura()    "
   ]
  },
  {
   "cell_type": "code",
   "execution_count": null,
   "metadata": {},
   "outputs": [],
   "source": []
  }
 ],
 "metadata": {
  "kernelspec": {
   "display_name": "Python 3",
   "language": "python",
   "name": "python3"
  },
  "language_info": {
   "codemirror_mode": {
    "name": "ipython",
    "version": 3
   },
   "file_extension": ".py",
   "mimetype": "text/x-python",
   "name": "python",
   "nbconvert_exporter": "python",
   "pygments_lexer": "ipython3",
   "version": "3.7.0"
  }
 },
 "nbformat": 4,
 "nbformat_minor": 2
}
