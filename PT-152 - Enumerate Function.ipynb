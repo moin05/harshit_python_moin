{
 "cells": [
  {
   "cell_type": "code",
   "execution_count": 8,
   "metadata": {},
   "outputs": [
    {
     "name": "stdout",
     "output_type": "stream",
     "text": [
      "abc---> 0\n",
      "absdef---> 1\n",
      "harshit---> 2\n"
     ]
    }
   ],
   "source": [
    "#We use enumerate function with for loop to track the position\n",
    "# of our item in iterable \n",
    "\n",
    "#how can we do this without and with enumerate function , we will see\n",
    "\n",
    "#Without enumerate function \n",
    "\n",
    "names=['abc','absdef','harshit']\n",
    "#output shud be like\n",
    "# 0 --> 'abc'\n",
    "# 1 --> 'abcdef'\n",
    "# 2 --> 'harshit'\n",
    "\n",
    "posi=0\n",
    "for i in names:\n",
    "    print(f\"{i}---> {posi}\")\n",
    "    posi=posi+1\n",
    "    "
   ]
  },
  {
   "cell_type": "code",
   "execution_count": 10,
   "metadata": {},
   "outputs": [
    {
     "name": "stdout",
     "output_type": "stream",
     "text": [
      "abc---> 0\n",
      "absdef---> 1\n",
      "harshit---> 2\n"
     ]
    }
   ],
   "source": [
    "#With Enumerate function \n",
    "names=['abc','absdef','harshit']\n",
    "for posi,nameeee in enumerate(names):\n",
    "      print(f\"{nameeee}---> {posi}\")\n",
    "\n",
    "#woh posi ko bhi sath sath me badhta jaega\n",
    "#cool :)"
   ]
  },
  {
   "cell_type": "code",
   "execution_count": 11,
   "metadata": {},
   "outputs": [],
   "source": [
    "#task\n",
    "#Define a func that takes two arguments\n",
    "# 1. list containing string \n",
    "# 2. string that want to find in your list \n",
    "# and this function will return the index of string in your list and \n",
    "# if string is not present then return -1 "
   ]
  },
  {
   "cell_type": "code",
   "execution_count": 13,
   "metadata": {},
   "outputs": [
    {
     "data": {
      "text/plain": [
       "3"
      ]
     },
     "execution_count": 13,
     "metadata": {},
     "output_type": "execute_result"
    }
   ],
   "source": [
    "def funcc(Astring,Blist):\n",
    "        posi=0\n",
    "        for i in Blist:\n",
    "            if i==Astring:\n",
    "                return(posi)\n",
    "            else:\n",
    "                posi=posi+1\n",
    "                \n",
    "funcc('a',['hgfd','b','sdf','a','h'])                "
   ]
  },
  {
   "cell_type": "code",
   "execution_count": 26,
   "metadata": {},
   "outputs": [
    {
     "data": {
      "text/plain": [
       "3"
      ]
     },
     "execution_count": 26,
     "metadata": {},
     "output_type": "execute_result"
    }
   ],
   "source": [
    "#With enumerate func\n",
    "def funccc(l,target):\n",
    "    posi=0\n",
    "    for posi,i in enumerate(l):\n",
    "        if i==target:\n",
    "            return posi\n",
    "    return -1     \n",
    "    \n",
    "funccc(['hgfd','b','sdf','a','h'],'a')            \n",
    "#khud se kiya :)        "
   ]
  },
  {
   "cell_type": "code",
   "execution_count": null,
   "metadata": {},
   "outputs": [],
   "source": []
  }
 ],
 "metadata": {
  "kernelspec": {
   "display_name": "Python 3",
   "language": "python",
   "name": "python3"
  },
  "language_info": {
   "codemirror_mode": {
    "name": "ipython",
    "version": 3
   },
   "file_extension": ".py",
   "mimetype": "text/x-python",
   "name": "python",
   "nbconvert_exporter": "python",
   "pygments_lexer": "ipython3",
   "version": "3.6.5"
  }
 },
 "nbformat": 4,
 "nbformat_minor": 2
}
