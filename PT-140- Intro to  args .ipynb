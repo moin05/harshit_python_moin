{
 "cells": [
  {
   "cell_type": "code",
   "execution_count": 1,
   "metadata": {},
   "outputs": [],
   "source": [
    "#Make flexible functions\n",
    "\n",
    "# *operator \n",
    "# *args"
   ]
  },
  {
   "cell_type": "code",
   "execution_count": 5,
   "metadata": {},
   "outputs": [
    {
     "name": "stdout",
     "output_type": "stream",
     "text": [
      "7\n"
     ]
    }
   ],
   "source": [
    "def total(a,b):\n",
    "    return a+b\n",
    "\n",
    "print(total(3,4))\n",
    "#print(total(3,4,100,99))  #error ayega\n",
    "#isko solve krne ke liye we use *args"
   ]
  },
  {
   "cell_type": "code",
   "execution_count": 9,
   "metadata": {},
   "outputs": [
    {
     "name": "stdout",
     "output_type": "stream",
     "text": [
      "(1, 2, 3, 4, 5, 65)\n",
      "<class 'tuple'>\n"
     ]
    }
   ],
   "source": [
    "#waise * ke baad kuch bi likh skte hai , but usually apan args likhte hai\n",
    "\n",
    "def all_total(*args):\n",
    "    print(args)\n",
    "    print(type(args))\n",
    "\n",
    "all_total(1,2,3,4,5,65) #--->This will give a tuple \n",
    "#ab mai kitne bhi number daal skta hu star operator will \n",
    "#convert it to a tuple"
   ]
  },
  {
   "cell_type": "code",
   "execution_count": 11,
   "metadata": {},
   "outputs": [
    {
     "name": "stdout",
     "output_type": "stream",
     "text": [
      "(1, 2, 3, 4, 5, 65)\n",
      "<class 'tuple'>\n"
     ]
    }
   ],
   "source": [
    "# ye kaam * operator krra hai \n",
    "#args ki jagah kuch bhi likh skte hai \n",
    "def all_total(*nums):\n",
    "    print(nums)\n",
    "    print(type(nums))\n",
    "all_total(1,2,3,4,5,65)\n",
    "#yeh dekho \n",
    "#Waise , by convention , star ke baad args likhte hai ..okzz"
   ]
  },
  {
   "cell_type": "code",
   "execution_count": 14,
   "metadata": {},
   "outputs": [
    {
     "name": "stdout",
     "output_type": "stream",
     "text": [
      "80\n"
     ]
    }
   ],
   "source": [
    "def all_total(*args):\n",
    "    total=0\n",
    "    for i in args:\n",
    "        total=total+i\n",
    "    return total\n",
    "\n",
    "print(all_total(1,2,3,4,5,65))\n",
    "#smjh gya :)\n",
    "\n",
    "#ab jitne marzi arguments pass karao , tumhe sabka total milega :)"
   ]
  },
  {
   "cell_type": "code",
   "execution_count": null,
   "metadata": {},
   "outputs": [],
   "source": []
  }
 ],
 "metadata": {
  "kernelspec": {
   "display_name": "Python 3",
   "language": "python",
   "name": "python3"
  },
  "language_info": {
   "codemirror_mode": {
    "name": "ipython",
    "version": 3
   },
   "file_extension": ".py",
   "mimetype": "text/x-python",
   "name": "python",
   "nbconvert_exporter": "python",
   "pygments_lexer": "ipython3",
   "version": "3.6.5"
  }
 },
 "nbformat": 4,
 "nbformat_minor": 2
}
