{
 "cells": [
  {
   "cell_type": "code",
   "execution_count": 1,
   "metadata": {},
   "outputs": [],
   "source": [
    "#define a function\n",
    "#input \n",
    "\n",
    "#iterable(tuple, list)containing numbers as args \n",
    "\n",
    "#example \n",
    "#nums = [1,2,3]\n",
    "#to_power(3,*nums)\n",
    "#cube krna hai sare elemnets ka \n",
    "\n",
    "#output\n",
    "#list---> [1,8,27]\n",
    "\n",
    "#if user didnt pass any args then give a user a message 'hey u didnt pass \n",
    "#args\n",
    "\n",
    "#else \n",
    "#return list \n",
    "\n",
    "#Note - use list comprehension \n"
   ]
  },
  {
   "cell_type": "code",
   "execution_count": null,
   "metadata": {},
   "outputs": [],
   "source": []
  }
 ],
 "metadata": {
  "kernelspec": {
   "display_name": "Python 3",
   "language": "python",
   "name": "python3"
  },
  "language_info": {
   "codemirror_mode": {
    "name": "ipython",
    "version": 3
   },
   "file_extension": ".py",
   "mimetype": "text/x-python",
   "name": "python",
   "nbconvert_exporter": "python",
   "pygments_lexer": "ipython3",
   "version": "3.6.5"
  }
 },
 "nbformat": 4,
 "nbformat_minor": 2
}
