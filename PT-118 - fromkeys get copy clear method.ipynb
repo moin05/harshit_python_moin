{
 "cells": [
  {
   "cell_type": "code",
   "execution_count": 3,
   "metadata": {},
   "outputs": [
    {
     "name": "stdout",
     "output_type": "stream",
     "text": [
      "{'name': 'unknown', 'age': 'unknown', 'height': 'unknown'}\n",
      "{'name': 'unknown', 'age': 'unknown', 'height': 'unknown'}\n"
     ]
    }
   ],
   "source": [
    "#fromkeys\n",
    "\n",
    "d=dict.fromkeys(['name','age','height'],'unknown')\n",
    "print(d)\n",
    "d=dict.fromkeys(('name','age','height'),'unknown') #keys ko aise tuple\n",
    "#me bhi de skte ho \n",
    "print(d)"
   ]
  },
  {
   "cell_type": "code",
   "execution_count": 7,
   "metadata": {},
   "outputs": [
    {
     "name": "stdout",
     "output_type": "stream",
     "text": [
      "{'a': 'unknown', 'b': 'unknown', 'c': 'unknown'}\n"
     ]
    }
   ],
   "source": [
    "d=dict.fromkeys('abc','unknown') \n",
    "#a alag key bana \n",
    "#b alag key bana\n",
    "#c alag key bana \n",
    "#aur sabki value unknown rahegi :)\n",
    "print(d)"
   ]
  },
  {
   "cell_type": "code",
   "execution_count": 10,
   "metadata": {},
   "outputs": [
    {
     "name": "stdout",
     "output_type": "stream",
     "text": [
      "{1: 'unknown', 2: 'unknown', 3: 'unknown', 4: 'unknown', 5: 'unknown', 6: 'unknown', 7: 'unknown', 8: 'unknown', 9: 'unknown', 10: 'unknown'}\n"
     ]
    }
   ],
   "source": [
    "d=dict.fromkeys(range(1,11),'unknown')\n",
    "print(d)\n",
    "#ek se lekr dus tak keys banegi aur sabki value\n",
    "#unknown rahegi :)"
   ]
  },
  {
   "cell_type": "code",
   "execution_count": 12,
   "metadata": {},
   "outputs": [
    {
     "name": "stdout",
     "output_type": "stream",
     "text": [
      "{'name': ['unk1', 'unk2'], 'age': ['unk1', 'unk2']}\n"
     ]
    }
   ],
   "source": [
    "d=dict.fromkeys(['name','age'],['unk1','unk2'])\n",
    "print(d)\n",
    "#yeh dekho"
   ]
  },
  {
   "cell_type": "code",
   "execution_count": 18,
   "metadata": {},
   "outputs": [
    {
     "name": "stdout",
     "output_type": "stream",
     "text": [
      "unknown\n"
     ]
    },
    {
     "ename": "KeyError",
     "evalue": "'namesssss'",
     "output_type": "error",
     "traceback": [
      "\u001b[1;31m---------------------------------------------------------------------------\u001b[0m",
      "\u001b[1;31mKeyError\u001b[0m                                  Traceback (most recent call last)",
      "\u001b[1;32m<ipython-input-18-8f00742c01aa>\u001b[0m in \u001b[0;36m<module>\u001b[1;34m()\u001b[0m\n\u001b[0;32m     11\u001b[0m \u001b[1;33m\u001b[0m\u001b[0m\n\u001b[0;32m     12\u001b[0m \u001b[1;31m#agar woh key enter karu jo hai hi nahi\u001b[0m\u001b[1;33m\u001b[0m\u001b[1;33m\u001b[0m\u001b[0m\n\u001b[1;32m---> 13\u001b[1;33m \u001b[0mprint\u001b[0m\u001b[1;33m(\u001b[0m\u001b[0md\u001b[0m\u001b[1;33m[\u001b[0m\u001b[1;34m'namesssss'\u001b[0m\u001b[1;33m]\u001b[0m\u001b[1;33m)\u001b[0m\u001b[1;33m\u001b[0m\u001b[0m\n\u001b[0m\u001b[0;32m     14\u001b[0m \u001b[1;31m#toh error dega\u001b[0m\u001b[1;33m\u001b[0m\u001b[1;33m\u001b[0m\u001b[0m\n",
      "\u001b[1;31mKeyError\u001b[0m: 'namesssss'"
     ]
    }
   ],
   "source": [
    "#get method\n",
    "\n",
    "d={\n",
    "    'name':'unknown',\n",
    "    'age':'unknown'\n",
    "}\n",
    "\n",
    "#agar merko kisi key , say name, ki value chahiye\n",
    "#d['name']\n",
    "print(d['name'])\n",
    "\n",
    "#agar woh key enter karu jo hai hi nahi \n",
    "print(d['namesssss'])\n",
    "#toh error dega"
   ]
  },
  {
   "cell_type": "code",
   "execution_count": 23,
   "metadata": {},
   "outputs": [
    {
     "name": "stdout",
     "output_type": "stream",
     "text": [
      "unknown\n",
      "None\n"
     ]
    }
   ],
   "source": [
    "#get method\n",
    "d={\n",
    "    'name':'unknown',\n",
    "    'age':'unknown'\n",
    "}\n",
    "\n",
    "#agar merko kisi key , say name, ki value chahiye\n",
    "#d.get('name')\n",
    "print(d.get('name'))\n",
    "\n",
    "#agar woh key enter karu jo hai hi nahi \n",
    "print(d.get('namesss'))\n",
    "#Ab get method tumko error nai dega \n",
    "#instead , None dega \n",
    "#meaning aise koi key hi nahi hai \n",
    "#Hence get method is better :)"
   ]
  },
  {
   "cell_type": "code",
   "execution_count": 31,
   "metadata": {},
   "outputs": [
    {
     "name": "stdout",
     "output_type": "stream",
     "text": [
      "present \n",
      "\n",
      "absent\n"
     ]
    }
   ],
   "source": [
    "d={\n",
    "    'name':'unknown',\n",
    "    'age':'unknown'\n",
    "}\n",
    "\n",
    "#if 'name' in d:\n",
    "#    print('present')\n",
    "#else:\n",
    "#    print('absent')\n",
    "\n",
    "#isi cheez ko krne ka dusra tareeqa\n",
    "\n",
    "if d.get('name'):  #agar name naam ki koi key nai hui toh NONE return hoga\n",
    "    print('present \\n') #toh else wali cond run hogi \n",
    "else:\n",
    "    print('absent \\n')\n",
    "    \n",
    "if d.get('namesssssssss'):  \n",
    "    print('present')  \n",
    "else:\n",
    "    print('absent')    "
   ]
  },
  {
   "cell_type": "code",
   "execution_count": 32,
   "metadata": {},
   "outputs": [
    {
     "name": "stdout",
     "output_type": "stream",
     "text": [
      "{}\n"
     ]
    }
   ],
   "source": [
    "#clear method\n",
    "#isse dict clear ho jayegi :)\n",
    "d={\n",
    "    'name':'unknown',\n",
    "    'age':'unknown'\n",
    "}\n",
    "d.clear()\n",
    "print(d)"
   ]
  },
  {
   "cell_type": "code",
   "execution_count": 35,
   "metadata": {},
   "outputs": [
    {
     "name": "stdout",
     "output_type": "stream",
     "text": [
      "{'name': 'unknown', 'age': 'unknown'}\n"
     ]
    }
   ],
   "source": [
    "#copy method \n",
    "d={\n",
    "    'name':'unknown',\n",
    "    'age':'unknown'\n",
    "}\n",
    "d1=d.copy() #jo bhi d me tha sab d1 me copy hojayega :)\n",
    "print(d1)\n",
    "#isme do alag alag SAME dictionary bani hai \n",
    "\n",
    "#d1=d  \n",
    "#aisa kroge toh joh changes tum d1 me karoge woh automatically d me \n",
    "#ho jaenge\n",
    "#d1=d.copy() and d1=d me difference hai :)"
   ]
  },
  {
   "cell_type": "code",
   "execution_count": null,
   "metadata": {},
   "outputs": [],
   "source": []
  }
 ],
 "metadata": {
  "kernelspec": {
   "display_name": "Python 3",
   "language": "python",
   "name": "python3"
  },
  "language_info": {
   "codemirror_mode": {
    "name": "ipython",
    "version": 3
   },
   "file_extension": ".py",
   "mimetype": "text/x-python",
   "name": "python",
   "nbconvert_exporter": "python",
   "pygments_lexer": "ipython3",
   "version": "3.6.5"
  }
 },
 "nbformat": 4,
 "nbformat_minor": 2
}
