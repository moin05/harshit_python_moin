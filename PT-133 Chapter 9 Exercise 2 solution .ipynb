{
 "cells": [
  {
   "cell_type": "code",
   "execution_count": 1,
   "metadata": {},
   "outputs": [
    {
     "name": "stdout",
     "output_type": "stream",
     "text": [
      "['1', '2', '3.0', '5.0']\n"
     ]
    }
   ],
   "source": [
    "input_list=[1,2,3.0,True,False,('string','ring'),5.0]\n",
    "output_list=[]\n",
    "for i in input_list:\n",
    "    if type(i)==int or type(i)==float:\n",
    "        i=str(i)\n",
    "        output_list.append(i)\n",
    "print(output_list)        \n",
    "    "
   ]
  },
  {
   "cell_type": "code",
   "execution_count": 5,
   "metadata": {},
   "outputs": [
    {
     "name": "stdout",
     "output_type": "stream",
     "text": [
      "['1', '2', '3.0', '5.0']\n"
     ]
    }
   ],
   "source": [
    "def easy(liist):\n",
    "    output_list=[]\n",
    "    for i in liist:\n",
    "        if type(i)==int or type(i)==float:\n",
    "            i=str(i)\n",
    "            output_list.append(i)\n",
    "    return output_list        \n",
    "\n",
    "print(easy(input_list))    "
   ]
  },
  {
   "cell_type": "code",
   "execution_count": 10,
   "metadata": {},
   "outputs": [
    {
     "data": {
      "text/plain": [
       "['1', '2', '3.0', '5.0']"
      ]
     },
     "execution_count": 10,
     "metadata": {},
     "output_type": "execute_result"
    }
   ],
   "source": [
    "output_list=[str(i) for i in input_list if (type(i)==int or type(i)==float)]\n",
    "output_list"
   ]
  },
  {
   "cell_type": "code",
   "execution_count": null,
   "metadata": {},
   "outputs": [],
   "source": []
  }
 ],
 "metadata": {
  "kernelspec": {
   "display_name": "Python 3",
   "language": "python",
   "name": "python3"
  },
  "language_info": {
   "codemirror_mode": {
    "name": "ipython",
    "version": 3
   },
   "file_extension": ".py",
   "mimetype": "text/x-python",
   "name": "python",
   "nbconvert_exporter": "python",
   "pygments_lexer": "ipython3",
   "version": "3.6.5"
  }
 },
 "nbformat": 4,
 "nbformat_minor": 2
}
